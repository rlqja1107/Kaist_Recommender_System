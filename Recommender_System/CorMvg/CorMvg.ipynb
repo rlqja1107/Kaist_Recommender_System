{
 "cells": [
  { 
   "cell_type": "code",
   "execution_count": 2,
   "metadata": {},
   "outputs": [],
   "source": [
    "import numpy as np\n",
    "from six import iteritems\n",
    "from timeit import default_timer as timer \n",
    "from math import sqrt\n",
    "import Call_Function as cf\n",
    "import pickle"
   ]
  },
  {
   "cell_type": "code",
   "execution_count": 12,
   "metadata": {},
   "outputs": [
    {
     "data": {
      "text/plain": [
       "8"
      ]
     },
     "execution_count": 12,
     "metadata": {},
     "output_type": "execute_result"
    }
   ],
   "source": [ 
    "2**3"
   ]
  },
  {
   "cell_type": "code",
   "execution_count": 13,
   "metadata": {},
   "outputs": [],
   "source": [
    "neigh=None\n",
    "with open('similarity2.p','rb')as file:\n",
    "    neigh=pickle.load(file)\n"
   ]
  },
  {
   "cell_type": "code",
   "execution_count": 24,
   "metadata": {},
   "outputs": [
    {
     "data": {
      "text/plain": [
       "2.1626370512073962"
      ]
     },
     "execution_count": 24,
     "metadata": {},
     "output_type": "execute_result"
    }
   ],
   "source": [
    "neigh.overall_mean+neigh.bu[0]+neigh.bi[0]"
   ]
  },
  {
   "cell_type": "code",
   "execution_count": 18,
   "metadata": {},
   "outputs": [],
   "source": [
    "count=0\n",
    "for i in range(neigh.n_movie):\n",
    "    if neigh.sim_matrix[3,neigh.index_matrix[3,i]]!=0.0 and count<50:\n",
    "        count+=1\n"
   ]
  },
  {
   "cell_type": "code",
   "execution_count": null,
   "metadata": {},
   "outputs": [],
   "source": []
  },
  {
   "cell_type": "code",
   "execution_count": 114,
   "metadata": {},
   "outputs": [
    {
     "data": {
      "text/plain": [
       "(array([], dtype=int64), array([], dtype=int64))"
      ]
     },
     "execution_count": 114,
     "metadata": {},
     "output_type": "execute_result"
    }
   ],
   "source": [
    "np.nonzero(neigh.sim_matrix)"
   ]
  },
  {
   "cell_type": "code",
   "execution_count": 72,
   "metadata": {},
   "outputs": [
    {
     "data": {
      "text/plain": [
       "array([1, 2, 2])"
      ]
     },
     "execution_count": 72,
     "metadata": {},
     "output_type": "execute_result"
    }
   ],
   "source": [
    "a=np.array([[1,2,3],[1,2,3],[1,2,3]])\n",
    "b=np.array([[1,2,3],[2,3,4],[2,6,7]])\n",
    "a[:,0]*b[:,0]\n"
   ]
  },
  {
   "cell_type": "code",
   "execution_count": 75,
   "metadata": {},
   "outputs": [
    {
     "data": {
      "text/plain": [
       "numpy.ndarray"
      ]
     },
     "execution_count": 75,
     "metadata": {},
     "output_type": "execute_result"
    }
   ],
   "source": [
    "c=(1,2,3)\n",
    "a=np.asarray(c)\n",
    "type(a)"
   ]
  },
  {
   "cell_type": "code",
   "execution_count": 5,
   "metadata": {},
   "outputs": [
    {
     "name": "stdout",
     "output_type": "stream",
     "text": [
      "Read Start\n",
      "Finish\n",
      "Get All Mean , Time :  2.6804644789081067\n"
     ]
    },
    {
     "name": "stderr",
     "output_type": "stream",
     "text": [
      "/home/kibum/anaconda3/envs/kibum/lib/python3.7/site-packages/ipykernel_launcher.py:73: RuntimeWarning: invalid value encountered in double_scalars\n"
     ]
    },
    {
     "ename": "KeyboardInterrupt",
     "evalue": "",
     "output_type": "error",
     "traceback": [
      "\u001b[0;31m---------------------------------------------------------------------------\u001b[0m",
      "\u001b[0;31mKeyboardInterrupt\u001b[0m                         Traceback (most recent call last)",
      "\u001b[0;32m<ipython-input-5-401fe74e8374>\u001b[0m in \u001b[0;36m<module>\u001b[0;34m\u001b[0m\n\u001b[1;32m     18\u001b[0m     \u001b[0mneigh\u001b[0m\u001b[0;34m.\u001b[0m\u001b[0mmake_mean\u001b[0m\u001b[0;34m(\u001b[0m\u001b[0;34m)\u001b[0m\u001b[0;34m\u001b[0m\u001b[0;34m\u001b[0m\u001b[0m\n\u001b[1;32m     19\u001b[0m     \u001b[0;31m# Movie의 similarity 구하기\u001b[0m\u001b[0;34m\u001b[0m\u001b[0;34m\u001b[0m\u001b[0;34m\u001b[0m\u001b[0m\n\u001b[0;32m---> 20\u001b[0;31m     \u001b[0mneigh\u001b[0m\u001b[0;34m.\u001b[0m\u001b[0mmake_sim_matrix\u001b[0m\u001b[0;34m(\u001b[0m\u001b[0;34m)\u001b[0m\u001b[0;34m\u001b[0m\u001b[0;34m\u001b[0m\u001b[0m\n\u001b[0m\u001b[1;32m     21\u001b[0m     \u001b[0mneigh\u001b[0m\u001b[0;34m.\u001b[0m\u001b[0mmake_top_sim_matrix\u001b[0m\u001b[0;34m(\u001b[0m\u001b[0;34m)\u001b[0m\u001b[0;34m\u001b[0m\u001b[0;34m\u001b[0m\u001b[0m\n\u001b[1;32m     22\u001b[0m     \u001b[0mRMSE_list\u001b[0m\u001b[0;34m=\u001b[0m\u001b[0;34m[\u001b[0m\u001b[0;34m]\u001b[0m\u001b[0;34m\u001b[0m\u001b[0;34m\u001b[0m\u001b[0m\n",
      "\u001b[0;32m<ipython-input-4-2734e1f81209>\u001b[0m in \u001b[0;36mmake_sim_matrix\u001b[0;34m(self)\u001b[0m\n\u001b[1;32m     63\u001b[0m                 \u001b[0mcount\u001b[0m\u001b[0;34m=\u001b[0m\u001b[0;36m0\u001b[0m\u001b[0;34m\u001b[0m\u001b[0;34m\u001b[0m\u001b[0m\n\u001b[1;32m     64\u001b[0m                 \u001b[0;32mfor\u001b[0m \u001b[0mk\u001b[0m \u001b[0;32min\u001b[0m \u001b[0mrange\u001b[0m\u001b[0;34m(\u001b[0m\u001b[0mself\u001b[0m\u001b[0;34m.\u001b[0m\u001b[0mn_user\u001b[0m\u001b[0;34m)\u001b[0m\u001b[0;34m:\u001b[0m\u001b[0;34m\u001b[0m\u001b[0;34m\u001b[0m\u001b[0m\n\u001b[0;32m---> 65\u001b[0;31m                     \u001b[0;32mif\u001b[0m \u001b[0mself\u001b[0m\u001b[0;34m.\u001b[0m\u001b[0mrating_matrix\u001b[0m\u001b[0;34m[\u001b[0m\u001b[0mk\u001b[0m\u001b[0;34m]\u001b[0m\u001b[0;34m[\u001b[0m\u001b[0mi\u001b[0m\u001b[0;34m]\u001b[0m \u001b[0;34m!=\u001b[0m \u001b[0;36m0\u001b[0m \u001b[0;32mand\u001b[0m \u001b[0mself\u001b[0m\u001b[0;34m.\u001b[0m\u001b[0mrating_matrix\u001b[0m\u001b[0;34m[\u001b[0m\u001b[0mk\u001b[0m\u001b[0;34m]\u001b[0m\u001b[0;34m[\u001b[0m\u001b[0mj\u001b[0m\u001b[0;34m]\u001b[0m \u001b[0;34m!=\u001b[0m \u001b[0;36m0\u001b[0m\u001b[0;34m:\u001b[0m\u001b[0;34m\u001b[0m\u001b[0;34m\u001b[0m\u001b[0m\n\u001b[0m\u001b[1;32m     66\u001b[0m                         \u001b[0mcount\u001b[0m\u001b[0;34m+=\u001b[0m\u001b[0;36m1\u001b[0m\u001b[0;34m\u001b[0m\u001b[0;34m\u001b[0m\u001b[0m\n\u001b[1;32m     67\u001b[0m                         \u001b[0mx_sum\u001b[0m\u001b[0;34m+=\u001b[0m\u001b[0;34m(\u001b[0m\u001b[0mself\u001b[0m\u001b[0;34m.\u001b[0m\u001b[0mrating_matrix\u001b[0m\u001b[0;34m[\u001b[0m\u001b[0mk\u001b[0m\u001b[0;34m]\u001b[0m\u001b[0;34m[\u001b[0m\u001b[0mi\u001b[0m\u001b[0;34m]\u001b[0m\u001b[0;34m-\u001b[0m\u001b[0mself\u001b[0m\u001b[0;34m.\u001b[0m\u001b[0mmovie_mean\u001b[0m\u001b[0;34m[\u001b[0m\u001b[0mi\u001b[0m\u001b[0;34m]\u001b[0m\u001b[0;34m)\u001b[0m\u001b[0;34m**\u001b[0m\u001b[0;36m2\u001b[0m\u001b[0;34m\u001b[0m\u001b[0;34m\u001b[0m\u001b[0m\n",
      "\u001b[0;31mKeyboardInterrupt\u001b[0m: "
     ]
    }
   ],
   "source": [
    "# Main Using Only Python\n",
    "if __name__ == '__main__':\n",
    "    n_user,n_movie,n_rating=cf.read_user_inform()\n",
    "    #n_user : user 수\n",
    "    #n_factor : factor 수\n",
    "    #n_movie : item 수\n",
    "    #epoch : epoch 수\n",
    "    #train_set training 할 data set의 경로\n",
    "    #num_nearest_k=150 : 근접 item 수\n",
    "    #learning_rate=0.005 : learning rate 수\n",
    "    #regulation=0.02 : regulation \n",
    "    #random_state=1 : seed로 난수로 정하기 위한 변수\n",
    "    #lamda=100 : similarity 구할 때의 람다\n",
    "    neigh=Neighbor_cor(n_user=n_user,n_factor=150,n_movie=n_movie,epoch=10,train_set=cf.data_location,num_nearest_k=30)\n",
    "    # data 읽어 들이기\n",
    "    neigh.read_u_data(cf.data_location)\n",
    "    # Movie의 평균 구하기\n",
    "    neigh.make_mean()\n",
    "    # Movie의 similarity 구하기\n",
    "    neigh.make_sim_matrix()\n",
    "    neigh.make_top_sim_matrix()\n",
    "    RMSE_list=[]\n",
    "    start=timer()\n",
    "    print('CorMvg Start')\n",
    "    for i in range(cf.k_fold):\n",
    "        neigh.gradient_descent(cf.train_set_list[i])\n",
    "        RMSE=neigh.predict(cf.test_set_list[i])\n",
    "        print(RMSE)\n",
    "        RMSE_list.append(RMSE)\n",
    "    time=timer()-start\n",
    "    print(\"Time : \",time)\n",
    "    avg_RMSE=sum(RMSE_list)/len(RMSE_list)\n",
    "    print(\"AVG RMSE : \",avg_RMSE)"
   ]
  },
  {
   "cell_type": "code",
   "execution_count": 4,
   "metadata": {},
   "outputs": [],
   "source": [
    "\n",
    "class Neighbor_cor:\n",
    "    #train_set indicate the route of train set\n",
    "    def __init__(self,n_user,n_factor,n_movie,epoch,train_set,num_nearest_k=150,learning_rate=0.005,regulation=0.02,random_state=1,lamda=100):\n",
    "        self.n_user=n_user\n",
    "        self.n_factor=n_factor\n",
    "        self.n_movie=n_movie\n",
    "        self.rating_matrix=np.zeros((n_user,n_movie),np.int8)\n",
    "        self.movie_mean=np.zeros(n_movie,np.float32)\n",
    "        self.sim_matrix=np.zeros((self.n_movie,self.n_movie))\n",
    "        self.index_matrix=None\n",
    "        #default value - 100\n",
    "        self.lamda=lamda\n",
    "        self.overall_mean=0\n",
    "        self.epochs=epoch\n",
    "        #default value - 1\n",
    "        self.random_state=random_state\n",
    "        self.lr=learning_rate\n",
    "        self.reg=regulation\n",
    "        self.bu=None\n",
    "        self.bi=None\n",
    "        self.k=num_nearest_k\n",
    "        self.train_set=train_set\n",
    "    # Reading total data for entering rating to matrix    \n",
    "    def read_u_data(self,location):\n",
    "        with open(location,'r') as f:\n",
    "            print(\"Read Start\")\n",
    "            line=f.readline().split('\\t')\n",
    "            while len(line)>1:\n",
    "                self.rating_matrix[int(line[0])-1,int(line[1])-1]=int(line[2])\n",
    "                line=f.readline().split('\\t')\n",
    "            print(\"Finish\")\n",
    "            \n",
    "    # get overall mean and each movie mean        \n",
    "    def make_mean(self):\n",
    "        start=timer()\n",
    "        total_count=0\n",
    "        total_sum=0\n",
    "        for j in range(self.n_movie):\n",
    "            sum=0\n",
    "            count=0\n",
    "            for i in range(self.n_user):\n",
    "                if self.rating_matrix[i,j] != 0:\n",
    "                    sum+=self.rating_matrix[i,j]\n",
    "                    total_count+=1\n",
    "                    total_sum+=self.rating_matrix[i,j]\n",
    "                    count+=1\n",
    "            self.movie_mean[j]=sum/count\n",
    "        self.overall_mean=total_sum/total_count\n",
    "        print(\"Get All Mean , Time : \",timer()-start)\n",
    "    \n",
    "    #Make Similarity Matrix\n",
    "    def make_sim_matrix(self):\n",
    "        start=timer()\n",
    "        #loading=0\n",
    "        for i in range(self.n_movie):\n",
    "            for j in range(self.n_movie):\n",
    "                if i == j:\n",
    "                    self.sim_matrix[i][j]=0\n",
    "                    continue\n",
    "                x_sum=0\n",
    "                y_sum=0\n",
    "                xy_sum=0\n",
    "                count=0\n",
    "                for k in range(self.n_user):                 \n",
    "                    if self.rating_matrix[k][i] != 0 and self.rating_matrix[k][j] != 0:\n",
    "                        count+=1\n",
    "                        x_sum+=(self.rating_matrix[k][i]-self.movie_mean[i])**2\n",
    "                        y_sum+=(self.rating_matrix[k][j]-self.movie_mean[j])**2\n",
    "                        xy_sum+=(self.rating_matrix[k][i]-self.movie_mean[i])*(self.rating_matrix[k][j]-self.movie_mean[j]) \n",
    "                if x_sum==0:\n",
    "                    self.sim_matrix[i][j]=self.sim_matrix[j][i]=0\n",
    "                else:   \n",
    "                    self.sim_matrix[i][j]=self.sim_matrix[j][i]=(count/(count+self.lamda))*(xy_sum/(sqrt(x_sum*y_sum)))\n",
    "                #loading+=1\n",
    "                #print('Loading : {}\\r'.format(loading), end='')\n",
    "        self.rating_matrix=rating_matrix\n",
    "        self.sim_matrix=sim_matrix\n",
    "        print(\"End Time : \",timer()-start)\n",
    "    \n",
    "    # Training\n",
    "    def gradient_descent(self,random):\n",
    "        k=self.k\n",
    "        bu=np.zeros(self.n_user,np.int32)\n",
    "        bi=np.zeros(self.n_movie,np.int32)\n",
    "        # Make index matrix of sorted similarity\n",
    "        index_matrix=make_top_sim_matrix()\n",
    "        for epoch in range(self.epochs):\n",
    "            with open(self.train_set,'r') as file:\n",
    "                line=file.readline().split('\\t')\n",
    "                #sum_top is sum of s_ij*(r_uj-b_uj) in S_k(i;u)\n",
    "                sum_top=0\n",
    "                #sum_bottom is sum of s_ij in S_k(i;u)\n",
    "                sum_bottom=0\n",
    "                while len(line) >1:\n",
    "                    #number of movie id relating to train_set\n",
    "                    movie_index=line[1]-1\n",
    "                    user_index=line[0]-1\n",
    "                    k_=0\n",
    "                    index=0\n",
    "                    while k_<k:\n",
    "                        _index=index_matrix[movie_index][index]\n",
    "                        if self.rating_matrix[user_index][_index] is not 0:\n",
    "                            baseline=self.overall_mean+bu[user_index]+bi[movie_index]\n",
    "                            sum_top+=self.sim_matrix[movie_index][_index]*(self.rating_matrix[user_index][_index]-baseline)\n",
    "                            sum_bottom+=self.sim_matrix[movie_index][_index]\n",
    "                            k_+=1\n",
    "                        index+=1\n",
    "                    r_ui_hat=self.overall_mean+bu[user_index]+bi[movie_index]+sum_top/sum_bottom\n",
    "                    error=self.rating_matrix[user_index][movie_index]-r_ui_hat\n",
    "                    bu[user_index]=bu[user_index]+self.lr*(error-self.reg*bu[user_index])\n",
    "                    bi[movie_index]=bi[movie_index]+self.lr*(error-self.reg*bi[movie_index])\n",
    "                    line=file.readline().split('\\t')\n",
    "        \n",
    "        self.bi=bi\n",
    "        self.bu=bu\n",
    "        return 0\n",
    "    \n",
    "     #Testing\n",
    "    def predict(self,test_set):\n",
    "        err_sum=0\n",
    "        total_count=0\n",
    "        with open(test_set,'r') as file:\n",
    "            line=file.readline().split('\\t')\n",
    "            while len(line) >1:\n",
    "                total_count+=1\n",
    "                #number of movie id relating to train_set\n",
    "                movie_index=int(line[1])-1\n",
    "                user_index=int(line[0])-1\n",
    "                rating=int(line[2])\n",
    "                k_=0\n",
    "                index=0\n",
    "                #sum_top is sum of s_ij*(r_uj-b_uj) in S_k(i;u)\n",
    "                sum_top=0\n",
    "                #sum_bottom is sum of s_ij in S_k(i;u)\n",
    "                sum_bottom=0\n",
    "                while k_<self.k:\n",
    "                    _index=self.index_matrix[movie_index,index]\n",
    "                    if self.sim_matrix[movie_index,_index]==0:\n",
    "                        break\n",
    "                    if self.rating_matrix[user_index,_index] != 0:\n",
    "                        baseline=overall_mean+self.bu[user_index]+self.bi[_index]\n",
    "                        sum_top+=self.sim_matrix[movie_index,_index]*(self.rating_matrix[user_index,_index]-baseline)\n",
    "                        sum_bottom+=self.sim_matrix[movie_index,_index]\n",
    "                        k_+=1\n",
    "                    \n",
    "                    index+=1\n",
    "                plus=sum_top/sum_bottom if sum_bottom!=0 else 0\n",
    "                r_ui_hat=overall_mean+self.bu[user_index]+self.bi[movie_index]+plus\n",
    "                error=self.rating_matrix[user_index,movie_index]-r_ui_hat\n",
    "                err_sum+=(error)**2\n",
    "                line=file.readline().split('\\t')\n",
    "        return sqrt(err_sum/total_count)\n",
    "    \n",
    "    # Make Index Matrix of descending order of similarity                \n",
    "    def make_top_sim_matrix(self):\n",
    "        index_matrix=[]\n",
    "        for i in range(self.n_user):\n",
    "            sort_index=self.sim_matrix[i].argsort()[::-1]\n",
    "            index_matrix.append(sort_index)\n",
    "        self.index_matrix=np.array(index_matrix)\n",
    "        return index_matrix\n",
    "        "
   ]
  }
 ],
 "metadata": {
  "kernelspec": {
   "display_name": "Python 3",
   "language": "python",
   "name": "python3"
  },
  "language_info": {
   "codemirror_mode": {
    "name": "ipython",
    "version": 3
   },
   "file_extension": ".py",
   "mimetype": "text/x-python",
   "name": "python",
   "nbconvert_exporter": "python",
   "pygments_lexer": "ipython3",
   "version": "3.7.4"
  }
 },
 "nbformat": 4,
 "nbformat_minor": 4
}
