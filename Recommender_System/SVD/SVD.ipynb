{ 
 "cells": [
  {
   "cell_type": "code",
   "execution_count": 6,
   "metadata": {},
   "outputs": [],
   "source": [
    "import os\n",
    "import sys\n",
    "sys.path.append(os.path.dirname(os.path.abspath(os.path.dirname('__file__'))))"
   ]
  },
  {
   "cell_type": "code",
   "execution_count": 7,
   "metadata": {},
   "outputs": [],
   "source": [
    "import numpy as np\n",
    "from timeit import default_timer as timer \n",
    "from numba import cuda,jit,vectorize,int32,float32,guvectorize\n",
    "from math import sqrt\n",
    "import pickle\n",
    "import Call_Function as cf"
   ]
  },
  {
   "cell_type": "code",
   "execution_count": 9,
   "metadata": {},
   "outputs": [
    {
     "name": "stdout",
     "output_type": "stream",
     "text": [
      "Read Start\n",
      "Finish\n"
     ]
    }
   ],
   "source": [
    "n_user,n_movie,n_rating=cf.read_user_inform()\n",
    "svd=SVD(n_user,200,n_movie,0,0.1,30)\n",
    "total_set='./ml-100k/u.data'\n",
    "svd.read_u_data(cf.data_location)"
   ]
  },
  {
   "cell_type": "code",
   "execution_count": 10,
   "metadata": {},
   "outputs": [
    {
     "name": "stdout",
     "output_type": "stream",
     "text": [
      "Time :  2.530684967059642\n"
     ]
    }
   ],
   "source": [
    "svd.get_overall_mean()"
   ]
  },
  {
   "cell_type": "code",
   "execution_count": 11,
   "metadata": {},
   "outputs": [
    {
     "name": "stdout",
     "output_type": "stream",
     "text": [
      "SVD Start\n"
     ]
    },
    {
     "ename": "KeyboardInterrupt",
     "evalue": "",
     "output_type": "error",
     "traceback": [
      "\u001b[0;31m---------------------------------------------------------------------------\u001b[0m",
      "\u001b[0;31mKeyboardInterrupt\u001b[0m                         Traceback (most recent call last)",
      "\u001b[0;32m<ipython-input-11-cdbc2ff31c57>\u001b[0m in \u001b[0;36m<module>\u001b[0;34m\u001b[0m\n\u001b[1;32m      3\u001b[0m \u001b[0mprint\u001b[0m\u001b[0;34m(\u001b[0m\u001b[0;34m'SVD Start'\u001b[0m\u001b[0;34m)\u001b[0m\u001b[0;34m\u001b[0m\u001b[0;34m\u001b[0m\u001b[0m\n\u001b[1;32m      4\u001b[0m \u001b[0;32mfor\u001b[0m \u001b[0mi\u001b[0m \u001b[0;32min\u001b[0m \u001b[0mrange\u001b[0m\u001b[0;34m(\u001b[0m\u001b[0mcf\u001b[0m\u001b[0;34m.\u001b[0m\u001b[0mk_fold\u001b[0m\u001b[0;34m)\u001b[0m\u001b[0;34m:\u001b[0m\u001b[0;34m\u001b[0m\u001b[0;34m\u001b[0m\u001b[0m\n\u001b[0;32m----> 5\u001b[0;31m     \u001b[0msvd\u001b[0m\u001b[0;34m.\u001b[0m\u001b[0mgradient_descent\u001b[0m\u001b[0;34m(\u001b[0m\u001b[0mcf\u001b[0m\u001b[0;34m.\u001b[0m\u001b[0mtrain_set_list\u001b[0m\u001b[0;34m[\u001b[0m\u001b[0mi\u001b[0m\u001b[0;34m]\u001b[0m\u001b[0;34m)\u001b[0m\u001b[0;34m\u001b[0m\u001b[0;34m\u001b[0m\u001b[0m\n\u001b[0m\u001b[1;32m      6\u001b[0m \u001b[0;34m\u001b[0m\u001b[0m\n\u001b[1;32m      7\u001b[0m     \u001b[0mRMSE\u001b[0m\u001b[0;34m=\u001b[0m\u001b[0msvd\u001b[0m\u001b[0;34m.\u001b[0m\u001b[0mpredict\u001b[0m\u001b[0;34m(\u001b[0m\u001b[0mtest_set_list\u001b[0m\u001b[0;34m[\u001b[0m\u001b[0mi\u001b[0m\u001b[0;34m]\u001b[0m\u001b[0;34m)\u001b[0m\u001b[0;34m\u001b[0m\u001b[0;34m\u001b[0m\u001b[0m\n",
      "\u001b[0;32m<ipython-input-3-17c353bd5969>\u001b[0m in \u001b[0;36mgradient_descent\u001b[0;34m(self, train_set)\u001b[0m\n\u001b[1;32m     83\u001b[0m                         \u001b[0mqi_\u001b[0m\u001b[0;34m=\u001b[0m\u001b[0mself\u001b[0m\u001b[0;34m.\u001b[0m\u001b[0mqi\u001b[0m\u001b[0;34m[\u001b[0m\u001b[0mmovie_index\u001b[0m\u001b[0;34m,\u001b[0m\u001b[0mi\u001b[0m\u001b[0;34m]\u001b[0m\u001b[0;34m\u001b[0m\u001b[0;34m\u001b[0m\u001b[0m\n\u001b[1;32m     84\u001b[0m                         \u001b[0mself\u001b[0m\u001b[0;34m.\u001b[0m\u001b[0mpu\u001b[0m\u001b[0;34m[\u001b[0m\u001b[0muser_index\u001b[0m\u001b[0;34m,\u001b[0m\u001b[0mi\u001b[0m\u001b[0;34m]\u001b[0m\u001b[0;34m+=\u001b[0m\u001b[0mself\u001b[0m\u001b[0;34m.\u001b[0m\u001b[0mlr\u001b[0m\u001b[0;34m*\u001b[0m\u001b[0;34m(\u001b[0m\u001b[0merror\u001b[0m\u001b[0;34m*\u001b[0m\u001b[0mqi_\u001b[0m\u001b[0;34m-\u001b[0m\u001b[0mself\u001b[0m\u001b[0;34m.\u001b[0m\u001b[0mreg\u001b[0m\u001b[0;34m*\u001b[0m\u001b[0mpu_\u001b[0m\u001b[0;34m)\u001b[0m\u001b[0;34m\u001b[0m\u001b[0;34m\u001b[0m\u001b[0m\n\u001b[0;32m---> 85\u001b[0;31m                         \u001b[0mself\u001b[0m\u001b[0;34m.\u001b[0m\u001b[0mqi\u001b[0m\u001b[0;34m[\u001b[0m\u001b[0mmovie_index\u001b[0m\u001b[0;34m,\u001b[0m\u001b[0mi\u001b[0m\u001b[0;34m]\u001b[0m\u001b[0;34m+=\u001b[0m\u001b[0mself\u001b[0m\u001b[0;34m.\u001b[0m\u001b[0mlr\u001b[0m\u001b[0;34m*\u001b[0m\u001b[0;34m(\u001b[0m\u001b[0merror\u001b[0m\u001b[0;34m*\u001b[0m\u001b[0mpu_\u001b[0m\u001b[0;34m-\u001b[0m\u001b[0mself\u001b[0m\u001b[0;34m.\u001b[0m\u001b[0mreg\u001b[0m\u001b[0;34m*\u001b[0m\u001b[0mqi_\u001b[0m\u001b[0;34m)\u001b[0m\u001b[0;34m\u001b[0m\u001b[0;34m\u001b[0m\u001b[0m\n\u001b[0m\u001b[1;32m     86\u001b[0m                     \u001b[0mline\u001b[0m\u001b[0;34m=\u001b[0m\u001b[0mfile\u001b[0m\u001b[0;34m.\u001b[0m\u001b[0mreadline\u001b[0m\u001b[0;34m(\u001b[0m\u001b[0;34m)\u001b[0m\u001b[0;34m.\u001b[0m\u001b[0msplit\u001b[0m\u001b[0;34m(\u001b[0m\u001b[0;34m'\\t'\u001b[0m\u001b[0;34m)\u001b[0m\u001b[0;34m\u001b[0m\u001b[0;34m\u001b[0m\u001b[0m\n\u001b[1;32m     87\u001b[0m     \u001b[0;31m#b_u와 b_i를 initialize한다.\u001b[0m\u001b[0;34m\u001b[0m\u001b[0;34m\u001b[0m\u001b[0;34m\u001b[0m\u001b[0m\n",
      "\u001b[0;31mKeyboardInterrupt\u001b[0m: "
     ]
    }
   ],
   "source": [
    "RMSE_list=[]\n",
    "start=timer()\n",
    "print('SVD Start')\n",
    "for i in range(cf.k_fold):\n",
    "    svd.gradient_descent(cf.train_set_list[i])\n",
    "    \n",
    "    RMSE=svd.predict(test_set_list[i])\n",
    "    print(RMSE)\n",
    "    RMSE_list.append(RMSE)\n",
    "time=timer()-start\n",
    "\n",
    "print(\"Time : \",time)\n",
    "\n",
    "avg_RMSE=sum(RMSE_list)/len(RMSE_list)\n",
    "\n",
    "print(\"RMSE : \",avg_RMSE)\n",
    "\n",
    "if save_or_not:\n",
    "    save_object(\"svd_object.p\",[svd,RMSE_list,time,avg_RMSE])"
   ]
  },
  {
   "cell_type": "code",
   "execution_count": 6,
   "metadata": {},
   "outputs": [
    {
     "name": "stdout",
     "output_type": "stream",
     "text": [
      "0.9615709943027311\n",
      "0.949974949815643\n",
      "0.9425239265970955\n",
      "0.9395484702560938\n",
      "0.9436179559911538\n",
      "Time :  6042.349062948953\n"
     ]
    }
   ],
   "source": [
    "RMSE_list=[]\n",
    "start=timer()\n",
    "for i in range(5):\n",
    "    train_set='./ml-100k/u'+str(i+1)+'.base'\n",
    "    svd.gradient_descent(train_set)\n",
    "    test_set='./ml-100k/u'+str(i+1)+'.test'\n",
    "    RMSE=svd.predict(test_set)\n",
    "    print(RMSE)\n",
    "    RMSE_list.append(RMSE)\n",
    "print(\"Time : \",timer()-start)\n",
    "with open(\"svd_object.p\",'wb') as file:\n",
    "    pickle.dump(svd,file)"
   ]
  },
  {
   "cell_type": "code",
   "execution_count": 3,
   "metadata": {},
   "outputs": [],
   "source": [
    "class SVD:\n",
    "    #train_set indicate the route of train set\n",
    "    def __init__(self,n_user,n_factor,n_movie,mean,stdev,epoch,learning_rate=0.002,regulation=0.04,random_state=1):\n",
    "        self.n_user=n_user\n",
    "        self.n_factor=n_factor\n",
    "        self.n_movie=n_movie\n",
    "        self.rating_matrix=np.zeros((n_user,n_movie),np.int8)\n",
    "        #default value - 100\n",
    "        self.overall_mean=0\n",
    "        self.epochs=epoch\n",
    "        #default value - 1\n",
    "        self.random_state=random_state\n",
    "        self.init_mean=mean\n",
    "        self.init_stdev=stdev\n",
    "        self.lr=learning_rate\n",
    "        self.reg=regulation\n",
    "        self.bu=None\n",
    "        self.bi=None\n",
    "        self.pu=None\n",
    "        self.qi=None\n",
    "        \n",
    "    def read_u_data(self,total_location):\n",
    "        with open(total_location,'r') as f:\n",
    "            print(\"Read Start\")\n",
    "            line=f.readline().split('\\t')\n",
    "            while len(line)>1:\n",
    "                self.rating_matrix[int(line[0])-1,int(line[1])-1]=int(line[2])\n",
    "                line=f.readline().split('\\t')\n",
    "            print(\"Finish\")\n",
    "            \n",
    "    def get_overall_mean(self):\n",
    "        start=timer()\n",
    "        total_count=0\n",
    "        total_sum=0\n",
    "        for j in range(self.n_movie):\n",
    "            for i in range(self.n_user):\n",
    "                if self.rating_matrix[i,j] != 0:\n",
    "                    total_count+=1\n",
    "                    total_sum+=self.rating_matrix[i,j]\n",
    "        self.overall_mean=total_sum/total_count\n",
    "        print(\"Time : \",timer()-start)\n",
    "        \n",
    "        \n",
    "    def predict(self,test_set):\n",
    "        test_count=0\n",
    "        r_sum=0\n",
    "        with open(test_set,'r') as file:\n",
    "            line=file.readline().split('\\t')\n",
    "            \n",
    "            while len(line) >1:\n",
    "                test_count+=1\n",
    "                movie_index=int(line[1])-1\n",
    "                user_index=int(line[0])-1\n",
    "                rating=int(line[2])\n",
    "                product=0\n",
    "                for f in range(self.n_factor):\n",
    "                    product+=self.qi[movie_index,f]*self.pu[user_index,f]\n",
    "                error=rating-(self.overall_mean+self.bu[user_index]+self.bi[movie_index]+product)\n",
    "                r_sum+=(error)**2\n",
    "                line=file.readline().split('\\t')\n",
    "        return sqrt(r_sum/test_count)\n",
    "    \n",
    "    \n",
    "    def gradient_descent(self,train_set):\n",
    "        SVD.init_vector(self)\n",
    "        for i in range(self.epochs):\n",
    "            with open(train_set,'r') as file:\n",
    "                line=file.readline().split('\\t')\n",
    "                while len(line) >1:\n",
    "                    #print(\"Loading {}\\r\".format(loading), end='')\n",
    "                    #number of movie id relating to train_set\n",
    "                    movie_index=int(line[1])-1\n",
    "                    user_index=int(line[0])-1\n",
    "                    rating=int(line[2])\n",
    "                    product=0\n",
    "                    for f in range(self.n_factor):\n",
    "                        product+=self.qi[movie_index,f]*self.pu[user_index,f]\n",
    "                    error=rating-(self.overall_mean+self.bu[user_index]+self.bi[movie_index]+product)\n",
    "                    self.bu[user_index]+=self.lr*(error-self.reg*self.bu[user_index])\n",
    "                    self.bi[movie_index]+=self.lr*(error-self.reg*self.bi[movie_index])\n",
    "                    for i in range(self.n_factor):\n",
    "                        pu_=self.pu[user_index,i]\n",
    "                        qi_=self.qi[movie_index,i]\n",
    "                        self.pu[user_index,i]+=self.lr*(error*qi_-self.reg*pu_)\n",
    "                        self.qi[movie_index,i]+=self.lr*(error*pu_-self.reg*qi_)\n",
    "                    line=file.readline().split('\\t')\n",
    "    #b_u와 b_i를 initialize한다.\n",
    "    def init_vector(self):\n",
    "        generator=np.random.RandomState(self.random_state)\n",
    "        self.bu=np.zeros(self.n_user,np.double)\n",
    "        self.bi=np.zeros(self.n_movie,np.double)\n",
    "        self.pu=generator.normal(self.init_mean,self.init_stdev,(self.n_user,self.n_factor))\n",
    "        self.qi=generator.normal(self.init_mean,self.init_stdev,(self.n_movie,self.n_factor))\n",
    "        \n",
    "                    \n",
    "  "
   ]
  }
 ],
 "metadata": {
  "kernelspec": {
   "display_name": "Python 3",
   "language": "python",
   "name": "python3"
  },
  "language_info": {
   "codemirror_mode": {
    "name": "ipython",
    "version": 3
   },
   "file_extension": ".py",
   "mimetype": "text/x-python",
   "name": "python",
   "nbconvert_exporter": "python",
   "pygments_lexer": "ipython3",
   "version": "3.7.4"
  }
 },
 "nbformat": 4,
 "nbformat_minor": 4
}
