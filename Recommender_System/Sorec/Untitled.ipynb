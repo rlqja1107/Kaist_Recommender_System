{
 "cells": [
  {
   "cell_type": "code",
   "execution_count": 29,
   "metadata": {},
   "outputs": [],
   "source": [
    "import sys\n",
    "sys.path.append('..')\n",
    "import numpy as np\n",
    "from math import sqrt,exp, fabs\n",
    "import torch\n",
    "from torch.utils.data import DataLoader\n",
    "from timeit import default_timer as timer\n",
    "from sklearn.model_selection import train_test_split\n",
    "from scipy.sparse import coo_matrix,csr_matrix\n",
    "\n",
    "class Sorec(object):\n",
    "    \n",
    "    def __init__(self,config):\n",
    "        \"\"\"\n",
    "        lambda c : 10\n",
    "        other lambda : 0.001\n",
    "        \"\"\"\n",
    "        self.lamb_c=config['lamb_c']\n",
    "        self.lambda_=config['lambda_']\n",
    "        self.n_user=config['n_user']\n",
    "        self.n_item=config['n_item']\n",
    "        self.l_dim=config['latent_dim']\n",
    "        self.test_size=config['test_size']\n",
    "        self.U=np.random.normal(scale=1.0/self.l_dim,size=(self.l_dim,self.n_user))\n",
    "        self.V=np.random.normal(scale=1.0/self.l_dim,size=(self.l_dim,self.n_item))\n",
    "        self.Z=np.random.normal(scale=1.0/self.l_dim,size=(self.l_dim,self.n_user))\n",
    "        self.lr=config['lr']\n",
    "        self.batch_size=config['batch_size']\n",
    "        self.epoch=config['epoch']\n",
    "        self.best_MAE=100\n",
    "        self.max_trial=config['max_trial']\n",
    "        self.cur_trial=0\n",
    "        \n",
    "        \n",
    "    def get_rating_matrix(self):\n",
    "        \"\"\"\n",
    "        return csr_matrix\n",
    "        \"\"\"\n",
    "        rating_data=np.loadtxt('../epinions_dataset/ratings_data.txt',delimiter=' ',dtype=np.float)\n",
    "        user=rating_data[:,0]-1\n",
    "        item=rating_data[:,1]-1\n",
    "        rating=(rating_data[:,2]-1)/4\n",
    "        rating_csr=csr_matrix((rating,(user,item)),shape=(self.n_user,self.n_item),dtype=np.float)\n",
    "        train,test=train_test_split(rating_csr,test_size=self.test_size)\n",
    "        return train, test\n",
    "        \n",
    "    def get_trust_matrix(self):\n",
    "        \"\"\"\n",
    "        return coo_matrix\n",
    "        \"\"\"\n",
    "        trust_data=np.loadtxt('../epinions_dataset/trust_data.txt',delimiter=' ',dtype=np.float)\n",
    "        row=trust_data[:,0]-1\n",
    "        col=trust_data[:,1]-1\n",
    "        t=trust_data[:,2]\n",
    "        trust_coo=coo_matrix((t,(row,col)),shape=(self.n_user,self.n_user))\n",
    "        in_degree=trust_coo.sum(axis=0)\n",
    "        out_degree=trust_coo.sum(axis=1)\n",
    "        for i in range(trust_coo.data.shape[0]):\n",
    "            row_=trust_coo.row[i]\n",
    "            col_=trust_coo.col[i]\n",
    "            trust_coo.data[i]=sqrt(in_degree[0,col_]/(out_degree[row_,0]+in_degree[0,col_]))\n",
    "        return trust_coo\n",
    "    \n",
    "    @staticmethod\n",
    "    def run(model):\n",
    "        trust_mat=model.get_trust_matrix()\n",
    "        train_set, test_set=model.get_rating_matrix()\n",
    "        print(\"Datasetting Finish\")\n",
    "        for e in range(model.epoch):\n",
    "            start=timer()\n",
    "            model.train(train_set,trust_mat)\n",
    "            loss=model.test(test_set)\n",
    "            if not model.early_stop(loss):\n",
    "                print(\"Final Epoch : {:d}, MAE : {:.4f}\".format(e+1,loss))\n",
    "            print(\"Epoch : {:d}, MAE : {:.4f}\".format(e+1,loss))\n",
    "            \n",
    "    def sigmoid(self,x):\n",
    "        return 1/(1+exp(-x))\n",
    "    \n",
    "    def deri_sig(self,x):\n",
    "        return np.exp(x)/(1+np.exp(x))**2\n",
    "    \n",
    "    def train(self,train_set,trust_mat):\n",
    "        r_index=train_set.nonzero()\n",
    "        c_index=trust_mat.nonzero()\n",
    "        r_data=train_set.data\n",
    "        c_data=trust_mat.data\n",
    "        UV=[]\n",
    "        UZ=[]\n",
    "        # csr에서 non-missing value에 대해서만 길게 계산\n",
    "        for k in range(r_data.shape[0]):\n",
    "            UV.append(self.U[:,r_index[0][k]].T*self.V[:,r_index[1][k]])\n",
    "        for k in range(c_data.shape[0]):\n",
    "            UZ.append(self.U[:,c_index[0][k]].T*self.Z[:,c_index[1][k]])\n",
    "        UV=csr_matrix((self.deri_sig(UV)*(self.sigmoid(UV)-r_data),r_index),train_set.shape)\n",
    "        UZ=csr_matrix((self.deri_sig(UZ)*(self.sigmoid(UZ)-c_data),c_index),trust_mat.shape)\n",
    "        U=csr_matrix(self.U)\n",
    "        V=csr_matrix(self.V)\n",
    "        Z=csr_matrix(self.Z)\n",
    "        grad_U=UV.dot(V.T).T+self.lamb_c*UZ.dot(Z.T).T+self.lambda_*U\n",
    "        grad_V=UV.dot(U.T).T+self.lambda_*V\n",
    "        grad_Z=self.lamb_c*UZ.dot(U.T).T+self.lambda_*Z\n",
    "        \n",
    "        self.U=self.U-self.lr*grad_U\n",
    "        self.V=self.V-self.lr*grad_V\n",
    "        self.Z=self.Z-self.lr*grad_Z\n",
    "        \n",
    "    def test(self,test_set):\n",
    "        t_index=test_set.nonzero()\n",
    "        data=test_set.data\n",
    "        total=data.shape[0]\n",
    "        loss_numerator=0\n",
    "        for k in range(total):\n",
    "            pred=4*self.sigmoid(self.U[:,t_index[0][k]].T*self.V[:,t_index[1][k]])+1\n",
    "            loss_numerator+=fabs(pred,data[k])\n",
    "        return loss_numerator/total\n",
    "    \n",
    "    \n",
    "    def early_stop(self,mae):\n",
    "        if mae<self.best_MAE:\n",
    "            self.cur_trial=0\n",
    "            return True\n",
    "        elif self.cur_trial<self.max_trial:\n",
    "            self.cur_trial+=1\n",
    "            return True\n",
    "        else:\n",
    "            return False"
   ]
  },
  {
   "cell_type": "code",
   "execution_count": 19,
   "metadata": {},
   "outputs": [],
   "source": [
    "config={'lamb_c':10,\n",
    "       'lambda_':0.001,\n",
    "       \"n_user\":49290,\n",
    "       'n_item':139739,\n",
    "       'latent_dim':10,\n",
    "       'test_size':0.01,\n",
    "       'lr':0.01,\n",
    "       'batch_size':1024,\n",
    "       'epoch':100,\n",
    "       'max_trial':3}"
   ]
  },
  {
   "cell_type": "code",
   "execution_count": 30,
   "metadata": {},
   "outputs": [],
   "source": [
    "sorec=Sorec(config)"
   ]
  },
  {
   "cell_type": "code",
   "execution_count": 31,
   "metadata": {},
   "outputs": [
    {
     "name": "stdout",
     "output_type": "stream",
     "text": [
      "Datasetting Finish\n"
     ]
    },
    {
     "ename": "IndexError",
     "evalue": "index 615483 is out of bounds for axis 0 with size 615483",
     "output_type": "error",
     "traceback": [
      "\u001b[0;31m---------------------------------------------------------------------------\u001b[0m",
      "\u001b[0;31mIndexError\u001b[0m                                Traceback (most recent call last)",
      "\u001b[0;32m<ipython-input-31-88a6d58bfc23>\u001b[0m in \u001b[0;36m<module>\u001b[0;34m\u001b[0m\n\u001b[0;32m----> 1\u001b[0;31m \u001b[0mSorec\u001b[0m\u001b[0;34m.\u001b[0m\u001b[0mrun\u001b[0m\u001b[0;34m(\u001b[0m\u001b[0msorec\u001b[0m\u001b[0;34m)\u001b[0m\u001b[0;34m\u001b[0m\u001b[0;34m\u001b[0m\u001b[0m\n\u001b[0m",
      "\u001b[0;32m<ipython-input-29-7edd2a71be18>\u001b[0m in \u001b[0;36mrun\u001b[0;34m(model)\u001b[0m\n\u001b[1;32m     69\u001b[0m         \u001b[0;32mfor\u001b[0m \u001b[0me\u001b[0m \u001b[0;32min\u001b[0m \u001b[0mrange\u001b[0m\u001b[0;34m(\u001b[0m\u001b[0mmodel\u001b[0m\u001b[0;34m.\u001b[0m\u001b[0mepoch\u001b[0m\u001b[0;34m)\u001b[0m\u001b[0;34m:\u001b[0m\u001b[0;34m\u001b[0m\u001b[0;34m\u001b[0m\u001b[0m\n\u001b[1;32m     70\u001b[0m             \u001b[0mstart\u001b[0m\u001b[0;34m=\u001b[0m\u001b[0mtimer\u001b[0m\u001b[0;34m(\u001b[0m\u001b[0;34m)\u001b[0m\u001b[0;34m\u001b[0m\u001b[0;34m\u001b[0m\u001b[0m\n\u001b[0;32m---> 71\u001b[0;31m             \u001b[0mmodel\u001b[0m\u001b[0;34m.\u001b[0m\u001b[0mtrain\u001b[0m\u001b[0;34m(\u001b[0m\u001b[0mtrain_set\u001b[0m\u001b[0;34m,\u001b[0m\u001b[0mtrust_mat\u001b[0m\u001b[0;34m)\u001b[0m\u001b[0;34m\u001b[0m\u001b[0;34m\u001b[0m\u001b[0m\n\u001b[0m\u001b[1;32m     72\u001b[0m             \u001b[0mloss\u001b[0m\u001b[0;34m=\u001b[0m\u001b[0mmodel\u001b[0m\u001b[0;34m.\u001b[0m\u001b[0mtest\u001b[0m\u001b[0;34m(\u001b[0m\u001b[0mtest_set\u001b[0m\u001b[0;34m)\u001b[0m\u001b[0;34m\u001b[0m\u001b[0;34m\u001b[0m\u001b[0m\n\u001b[1;32m     73\u001b[0m             \u001b[0;32mif\u001b[0m \u001b[0;32mnot\u001b[0m \u001b[0mmodel\u001b[0m\u001b[0;34m.\u001b[0m\u001b[0mearly_stop\u001b[0m\u001b[0;34m(\u001b[0m\u001b[0mloss\u001b[0m\u001b[0;34m)\u001b[0m\u001b[0;34m:\u001b[0m\u001b[0;34m\u001b[0m\u001b[0;34m\u001b[0m\u001b[0m\n",
      "\u001b[0;32m<ipython-input-29-7edd2a71be18>\u001b[0m in \u001b[0;36mtrain\u001b[0;34m(self, train_set, trust_mat)\u001b[0m\n\u001b[1;32m     90\u001b[0m         \u001b[0;31m# csr에서 non-missing value에 대해서만 길게 계산\u001b[0m\u001b[0;34m\u001b[0m\u001b[0;34m\u001b[0m\u001b[0;34m\u001b[0m\u001b[0m\n\u001b[1;32m     91\u001b[0m         \u001b[0;32mfor\u001b[0m \u001b[0mk\u001b[0m \u001b[0;32min\u001b[0m \u001b[0mrange\u001b[0m\u001b[0;34m(\u001b[0m\u001b[0mr_data\u001b[0m\u001b[0;34m.\u001b[0m\u001b[0mshape\u001b[0m\u001b[0;34m[\u001b[0m\u001b[0;36m0\u001b[0m\u001b[0;34m]\u001b[0m\u001b[0;34m)\u001b[0m\u001b[0;34m:\u001b[0m\u001b[0;34m\u001b[0m\u001b[0;34m\u001b[0m\u001b[0m\n\u001b[0;32m---> 92\u001b[0;31m             \u001b[0mUV\u001b[0m\u001b[0;34m.\u001b[0m\u001b[0mappend\u001b[0m\u001b[0;34m(\u001b[0m\u001b[0mself\u001b[0m\u001b[0;34m.\u001b[0m\u001b[0mU\u001b[0m\u001b[0;34m[\u001b[0m\u001b[0;34m:\u001b[0m\u001b[0;34m,\u001b[0m\u001b[0mr_index\u001b[0m\u001b[0;34m[\u001b[0m\u001b[0;36m0\u001b[0m\u001b[0;34m]\u001b[0m\u001b[0;34m[\u001b[0m\u001b[0mk\u001b[0m\u001b[0;34m]\u001b[0m\u001b[0;34m]\u001b[0m\u001b[0;34m.\u001b[0m\u001b[0mT\u001b[0m\u001b[0;34m*\u001b[0m\u001b[0mself\u001b[0m\u001b[0;34m.\u001b[0m\u001b[0mV\u001b[0m\u001b[0;34m[\u001b[0m\u001b[0;34m:\u001b[0m\u001b[0;34m,\u001b[0m\u001b[0mr_index\u001b[0m\u001b[0;34m[\u001b[0m\u001b[0;36m1\u001b[0m\u001b[0;34m]\u001b[0m\u001b[0;34m[\u001b[0m\u001b[0mk\u001b[0m\u001b[0;34m]\u001b[0m\u001b[0;34m]\u001b[0m\u001b[0;34m)\u001b[0m\u001b[0;34m\u001b[0m\u001b[0;34m\u001b[0m\u001b[0m\n\u001b[0m\u001b[1;32m     93\u001b[0m         \u001b[0;32mfor\u001b[0m \u001b[0mk\u001b[0m \u001b[0;32min\u001b[0m \u001b[0mrange\u001b[0m\u001b[0;34m(\u001b[0m\u001b[0mc_data\u001b[0m\u001b[0;34m.\u001b[0m\u001b[0mshape\u001b[0m\u001b[0;34m[\u001b[0m\u001b[0;36m0\u001b[0m\u001b[0;34m]\u001b[0m\u001b[0;34m)\u001b[0m\u001b[0;34m:\u001b[0m\u001b[0;34m\u001b[0m\u001b[0;34m\u001b[0m\u001b[0m\n\u001b[1;32m     94\u001b[0m             \u001b[0mUZ\u001b[0m\u001b[0;34m.\u001b[0m\u001b[0mappend\u001b[0m\u001b[0;34m(\u001b[0m\u001b[0mself\u001b[0m\u001b[0;34m.\u001b[0m\u001b[0mU\u001b[0m\u001b[0;34m[\u001b[0m\u001b[0;34m:\u001b[0m\u001b[0;34m,\u001b[0m\u001b[0mc_index\u001b[0m\u001b[0;34m[\u001b[0m\u001b[0;36m0\u001b[0m\u001b[0;34m]\u001b[0m\u001b[0;34m[\u001b[0m\u001b[0mk\u001b[0m\u001b[0;34m]\u001b[0m\u001b[0;34m]\u001b[0m\u001b[0;34m.\u001b[0m\u001b[0mT\u001b[0m\u001b[0;34m*\u001b[0m\u001b[0mself\u001b[0m\u001b[0;34m.\u001b[0m\u001b[0mZ\u001b[0m\u001b[0;34m[\u001b[0m\u001b[0;34m:\u001b[0m\u001b[0;34m,\u001b[0m\u001b[0mc_index\u001b[0m\u001b[0;34m[\u001b[0m\u001b[0;36m1\u001b[0m\u001b[0;34m]\u001b[0m\u001b[0;34m[\u001b[0m\u001b[0mk\u001b[0m\u001b[0;34m]\u001b[0m\u001b[0;34m]\u001b[0m\u001b[0;34m)\u001b[0m\u001b[0;34m\u001b[0m\u001b[0;34m\u001b[0m\u001b[0m\n",
      "\u001b[0;31mIndexError\u001b[0m: index 615483 is out of bounds for axis 0 with size 615483"
     ]
    }
   ],
   "source": [
    "Sorec.run(sorec)"
   ]
  },
  {
   "cell_type": "code",
   "execution_count": null,
   "metadata": {},
   "outputs": [],
   "source": [
    "coo_mtx=coo_matrix((data,(row,col)),shape=(49290,49290),dtype=np.float)\n",
    "in_degree=np.asarray(coo_mtx.sum(axis=0))\n",
    "out_degree=np.asarray(coo_mtx.sum(axis=1))\n",
    "coo_mtx_arr=coo_mtx.toarray()"
   ]
  },
  {
   "cell_type": "code",
   "execution_count": null,
   "metadata": {},
   "outputs": [],
   "source": [
    "rating_array=np.loadtxt('../epinions_dataset/ratings_data.txt')"
   ]
  }
 ],
 "metadata": {
  "kernelspec": {
   "display_name": "Python 3",
   "language": "python",
   "name": "python3"
  },
  "language_info": {
   "codemirror_mode": {
    "name": "ipython",
    "version": 3
   },
   "file_extension": ".py",
   "mimetype": "text/x-python",
   "name": "python",
   "nbconvert_exporter": "python",
   "pygments_lexer": "ipython3",
   "version": "3.7.4"
  }
 },
 "nbformat": 4,
 "nbformat_minor": 4
}
