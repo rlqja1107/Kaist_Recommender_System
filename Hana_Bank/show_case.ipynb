{
 "cells": [
  {
   "cell_type": "markdown",
   "metadata": {},
   "source": [
    "### import 부분"
   ]
  },
  {
   "cell_type": "code",
   "execution_count": 11,
   "metadata": {},
   "outputs": [],
   "source": [
    "import numpy as np\n",
    "import pandas as pd\n",
    "from dataset import Dataset\n",
    "from timeit import default_timer as timer"
   ]
  },
  {
   "cell_type": "code",
   "execution_count": 12,
   "metadata": {},
   "outputs": [],
   "source": [
    "data = Dataset(data_path='Hana_Data.xlsx')\n",
    "data.load_data(factory_sheet='수신_여신상품(상품팩토리)')\n",
    "data.load_data(fund_sheet='펀드상품(펀드상품기본)')\n",
    "data.load_data(bank_assurance='방카상품(방카슈랑스기본)')"
   ]
  },
  {
   "cell_type": "markdown",
   "metadata": {},
   "source": [
    "## 수신 여신상품"
   ]
  },
  {
   "cell_type": "code",
   "execution_count": 13,
   "metadata": {},
   "outputs": [],
   "source": [
    "code_name_dict = {}\n",
    "error_index = []\n",
    "correct_index = []\n",
    "code_name = pd.concat([data.goods_factory['상품코드'], data.goods_factory['상품명']], axis=1)\n",
    "for index, value in code_name.iterrows():\n",
    "    if value['상품명'] not in code_name_dict.keys():\n",
    "        code_name_dict[value['상품명']] = value['상품코드']\n",
    "    else:\n",
    "        if value['상품코드'] != code_name_dict[value['상품명']]:\n",
    "            error_index.append([index, value['상품코드'], value['상품명']])\n",
    "            correct_index.append([index, code_name_dict[value['상품명']]])\n",
    "\n"
   ]
  },
  {
   "cell_type": "markdown",
   "metadata": {},
   "source": [
    "#### 상품코드와 상품명의 매핑 문제"
   ]
  },
  {
   "cell_type": "markdown",
   "metadata": {},
   "source": [
    "##### 금전채권시탁과 여신성공탁금-여신성공탁금의 상품코드가 2개씩 매핑"
   ]
  },
  {
   "cell_type": "code",
   "execution_count": 14,
   "metadata": {},
   "outputs": [
    {
     "data": {
      "text/html": [
       "<div>\n",
       "<style scoped>\n",
       "    .dataframe tbody tr th:only-of-type {\n",
       "        vertical-align: middle;\n",
       "    }\n",
       "\n",
       "    .dataframe tbody tr th {\n",
       "        vertical-align: top;\n",
       "    }\n",
       "\n",
       "    .dataframe thead th {\n",
       "        text-align: right;\n",
       "    }\n",
       "</style>\n",
       "<table border=\"1\" class=\"dataframe\">\n",
       "  <thead>\n",
       "    <tr style=\"text-align: right;\">\n",
       "      <th></th>\n",
       "      <th>index</th>\n",
       "      <th>상풍코드</th>\n",
       "      <th>상품명</th>\n",
       "      <th>index</th>\n",
       "      <th>상품코드</th>\n",
       "    </tr>\n",
       "  </thead>\n",
       "  <tbody>\n",
       "    <tr>\n",
       "      <td>0</td>\n",
       "      <td>151387</td>\n",
       "      <td>271028000101</td>\n",
       "      <td>금전채권신탁</td>\n",
       "      <td>151387</td>\n",
       "      <td>200041000101</td>\n",
       "    </tr>\n",
       "    <tr>\n",
       "      <td>156</td>\n",
       "      <td>221544</td>\n",
       "      <td>0380019W01301</td>\n",
       "      <td>여신성공탁금-여신성공탁금</td>\n",
       "      <td>221544</td>\n",
       "      <td>300088991001</td>\n",
       "    </tr>\n",
       "  </tbody>\n",
       "</table>\n",
       "</div>"
      ],
      "text/plain": [
       "      index           상풍코드            상품명   index          상품코드\n",
       "0    151387   271028000101         금전채권신탁  151387  200041000101\n",
       "156  221544  0380019W01301  여신성공탁금-여신성공탁금  221544  300088991001"
      ]
     },
     "execution_count": 14,
     "metadata": {},
     "output_type": "execute_result"
    }
   ],
   "source": [
    "pd.concat([pd.DataFrame(error_index,columns=[\"index\",'상풍코드','상품명']),pd.DataFrame(correct_index,columns = ['index','상품코드'])], axis=1).iloc[[0,156],:]"
   ]
  },
  {
   "cell_type": "markdown",
   "metadata": {},
   "source": [
    "#### 해결 - 금전채권시탁 : 271028000101 제거, 여신성공탁금-여신성공탁금 : 0380019W01301 제거 "
   ]
  },
  {
   "cell_type": "code",
   "execution_count": 15,
   "metadata": {},
   "outputs": [],
   "source": [
    "data.goods_factory.drop(data.goods_factory.index[data.goods_factory['상품코드'] == 271028000101], inplace=True)\n",
    "data.goods_factory.drop(data.goods_factory.index[data.goods_factory['상품코드'] == '0380019W01301'], inplace=True)"
   ]
  },
  {
   "cell_type": "code",
   "execution_count": 16,
   "metadata": {},
   "outputs": [
    {
     "name": "stdout",
     "output_type": "stream",
     "text": [
      "1406\n",
      "1406\n"
     ]
    }
   ],
   "source": [
    "print(len(data.goods_factory['상품코드'].unique()))\n",
    "print(len(data.goods_factory['상품명'].unique()))"
   ]
  },
  {
   "cell_type": "markdown",
   "metadata": {},
   "source": [
    "#### 상품명과 판매시작일, 판매종료일은 잘 매핑 - 비어있으면 잘 중복 없이 잘 매핑"
   ]
  },
  {
   "cell_type": "code",
   "execution_count": 17,
   "metadata": {},
   "outputs": [],
   "source": [
    "error = check_start_end_date()"
   ]
  },
  {
   "cell_type": "code",
   "execution_count": 18,
   "metadata": {},
   "outputs": [
    {
     "data": {
      "text/plain": [
       "[]"
      ]
     },
     "execution_count": 18,
     "metadata": {},
     "output_type": "execute_result"
    }
   ],
   "source": [
    "error"
   ]
  },
  {
   "cell_type": "markdown",
   "metadata": {},
   "source": [
    "#### 조건코드와 조건설명의 매핑 및 중복 문제 - 비어있으면 정상"
   ]
  },
  {
   "cell_type": "code",
   "execution_count": 19,
   "metadata": {},
   "outputs": [],
   "source": [
    "code_name = check_condition_code_explanation('조건코드', '조건설명', data.goods_factory)\n",
    "name_code = check_condition_code_explanation('조건설명', '조건코드', data.goods_factory)"
   ]
  },
  {
   "cell_type": "code",
   "execution_count": 20,
   "metadata": {},
   "outputs": [
    {
     "name": "stdout",
     "output_type": "stream",
     "text": [
      "Empty DataFrame\n",
      "Columns: [index, 조건코드_err, 조건설명_err, 조건코드_cor, 조건설명_cor]\n",
      "Index: []\n",
      "Empty DataFrame\n",
      "Columns: [index, 조건설명_err, 조건코드_err, 조건설명_cor, 조건코드_cor]\n",
      "Index: []\n"
     ]
    }
   ],
   "source": [
    "print(code_name)\n",
    "print(name_code)"
   ]
  },
  {
   "cell_type": "code",
   "execution_count": 21,
   "metadata": {},
   "outputs": [],
   "source": [
    "code_explain = check_condition_code_explanation(key_code='상세조건관리번호', value_word='상세조건설명', data_frame=data.goods_factory)"
   ]
  },
  {
   "cell_type": "markdown",
   "metadata": {},
   "source": [
    "#### 상세조건관리번호 하나에 여러 상세조건설명이 Mapping"
   ]
  },
  {
   "cell_type": "code",
   "execution_count": 22,
   "metadata": {},
   "outputs": [
    {
     "data": {
      "text/html": [
       "<div>\n",
       "<style scoped>\n",
       "    .dataframe tbody tr th:only-of-type {\n",
       "        vertical-align: middle;\n",
       "    }\n",
       "\n",
       "    .dataframe tbody tr th {\n",
       "        vertical-align: top;\n",
       "    }\n",
       "\n",
       "    .dataframe thead th {\n",
       "        text-align: right;\n",
       "    }\n",
       "</style>\n",
       "<table border=\"1\" class=\"dataframe\">\n",
       "  <thead>\n",
       "    <tr style=\"text-align: right;\">\n",
       "      <th></th>\n",
       "      <th>index</th>\n",
       "      <th>상세조건관리번호_err</th>\n",
       "      <th>상세조건설명_err</th>\n",
       "      <th>상세조건관리번호_cor</th>\n",
       "      <th>상세조건설명_cor</th>\n",
       "    </tr>\n",
       "  </thead>\n",
       "  <tbody>\n",
       "    <tr>\n",
       "      <td>0</td>\n",
       "      <td>150</td>\n",
       "      <td>A0160003</td>\n",
       "      <td>생계형저축한도-3000만원까지</td>\n",
       "      <td>A0160003</td>\n",
       "      <td>비과세종합저축한도-5000만원까지</td>\n",
       "    </tr>\n",
       "    <tr>\n",
       "      <td>1</td>\n",
       "      <td>275</td>\n",
       "      <td>A0160003</td>\n",
       "      <td>생계형저축한도-3000만원까지</td>\n",
       "      <td>A0160003</td>\n",
       "      <td>비과세종합저축한도-5000만원까지</td>\n",
       "    </tr>\n",
       "    <tr>\n",
       "      <td>2</td>\n",
       "      <td>423</td>\n",
       "      <td>A0160003</td>\n",
       "      <td>생계형저축한도-3000만원까지</td>\n",
       "      <td>A0160003</td>\n",
       "      <td>비과세종합저축한도-5000만원까지</td>\n",
       "    </tr>\n",
       "    <tr>\n",
       "      <td>3</td>\n",
       "      <td>611</td>\n",
       "      <td>A0160003</td>\n",
       "      <td>생계형저축한도-3000만원까지</td>\n",
       "      <td>A0160003</td>\n",
       "      <td>비과세종합저축한도-5000만원까지</td>\n",
       "    </tr>\n",
       "    <tr>\n",
       "      <td>4</td>\n",
       "      <td>785</td>\n",
       "      <td>A0160003</td>\n",
       "      <td>생계형저축한도-3000만원까지</td>\n",
       "      <td>A0160003</td>\n",
       "      <td>비과세종합저축한도-5000만원까지</td>\n",
       "    </tr>\n",
       "  </tbody>\n",
       "</table>\n",
       "</div>"
      ],
      "text/plain": [
       "   index 상세조건관리번호_err        상세조건설명_err 상세조건관리번호_cor          상세조건설명_cor\n",
       "0    150     A0160003  생계형저축한도-3000만원까지     A0160003  비과세종합저축한도-5000만원까지\n",
       "1    275     A0160003  생계형저축한도-3000만원까지     A0160003  비과세종합저축한도-5000만원까지\n",
       "2    423     A0160003  생계형저축한도-3000만원까지     A0160003  비과세종합저축한도-5000만원까지\n",
       "3    611     A0160003  생계형저축한도-3000만원까지     A0160003  비과세종합저축한도-5000만원까지\n",
       "4    785     A0160003  생계형저축한도-3000만원까지     A0160003  비과세종합저축한도-5000만원까지"
      ]
     },
     "execution_count": 22,
     "metadata": {},
     "output_type": "execute_result"
    }
   ],
   "source": [
    "code_explain.head()"
   ]
  },
  {
   "cell_type": "markdown",
   "metadata": {},
   "source": [
    "##### 생계형저축한도-3000만원 관리코드를 A0160004로 변경"
   ]
  },
  {
   "cell_type": "code",
   "execution_count": 23,
   "metadata": {},
   "outputs": [],
   "source": [
    "data.goods_factory.loc[data.goods_factory['상세조건설명'] == '생계형저축한도-3000만원까지', '상세조건관리번호'] = 'A0160004'"
   ]
  },
  {
   "cell_type": "markdown",
   "metadata": {},
   "source": [
    "#### 상세조건설명에 여러 상세조건관리번호가 Mapping"
   ]
  },
  {
   "cell_type": "code",
   "execution_count": 24,
   "metadata": {},
   "outputs": [],
   "source": [
    "explain_code = check_condition_code_explanation(key_code='상세조건설명', value_word='상세조건관리번호', data_frame=data.goods_factory)"
   ]
  },
  {
   "cell_type": "code",
   "execution_count": 25,
   "metadata": {},
   "outputs": [
    {
     "data": {
      "text/html": [
       "<div>\n",
       "<style scoped>\n",
       "    .dataframe tbody tr th:only-of-type {\n",
       "        vertical-align: middle;\n",
       "    }\n",
       "\n",
       "    .dataframe tbody tr th {\n",
       "        vertical-align: top;\n",
       "    }\n",
       "\n",
       "    .dataframe thead th {\n",
       "        text-align: right;\n",
       "    }\n",
       "</style>\n",
       "<table border=\"1\" class=\"dataframe\">\n",
       "  <thead>\n",
       "    <tr style=\"text-align: right;\">\n",
       "      <th></th>\n",
       "      <th>index</th>\n",
       "      <th>상세조건설명_err</th>\n",
       "      <th>상세조건관리번호_err</th>\n",
       "      <th>상세조건설명_cor</th>\n",
       "      <th>상세조건관리번호_cor</th>\n",
       "    </tr>\n",
       "  </thead>\n",
       "  <tbody>\n",
       "    <tr>\n",
       "      <td>0</td>\n",
       "      <td>1374</td>\n",
       "      <td>하나은행 가족은 0.1% 우대금리를 드립니다</td>\n",
       "      <td>C0300008</td>\n",
       "      <td>하나은행 가족은 0.1% 우대금리를 드립니다</td>\n",
       "      <td>C0260008</td>\n",
       "    </tr>\n",
       "    <tr>\n",
       "      <td>1</td>\n",
       "      <td>1678</td>\n",
       "      <td>계약금액-100만원이상 2천만원이하</td>\n",
       "      <td>A00300DU</td>\n",
       "      <td>계약금액-100만원이상 2천만원이하</td>\n",
       "      <td>A00300JR</td>\n",
       "    </tr>\n",
       "    <tr>\n",
       "      <td>2</td>\n",
       "      <td>5505</td>\n",
       "      <td>계약금액-10만원이상 20만원이하</td>\n",
       "      <td>A00300JO</td>\n",
       "      <td>계약금액-10만원이상 20만원이하</td>\n",
       "      <td>A00300K5</td>\n",
       "    </tr>\n",
       "    <tr>\n",
       "      <td>3</td>\n",
       "      <td>5754</td>\n",
       "      <td>계약금액-10만원이상 20만원이하</td>\n",
       "      <td>A00300JO</td>\n",
       "      <td>계약금액-10만원이상 20만원이하</td>\n",
       "      <td>A00300K5</td>\n",
       "    </tr>\n",
       "    <tr>\n",
       "      <td>4</td>\n",
       "      <td>8919</td>\n",
       "      <td>10만원 이상 자동이체하시면 0.1% 우대금리를 드립니다</td>\n",
       "      <td>C0300010</td>\n",
       "      <td>10만원 이상 자동이체하시면 0.1% 우대금리를 드립니다</td>\n",
       "      <td>C0260010</td>\n",
       "    </tr>\n",
       "  </tbody>\n",
       "</table>\n",
       "</div>"
      ],
      "text/plain": [
       "   index                       상세조건설명_err 상세조건관리번호_err  \\\n",
       "0   1374         하나은행 가족은 0.1% 우대금리를 드립니다     C0300008   \n",
       "1   1678              계약금액-100만원이상 2천만원이하     A00300DU   \n",
       "2   5505               계약금액-10만원이상 20만원이하     A00300JO   \n",
       "3   5754               계약금액-10만원이상 20만원이하     A00300JO   \n",
       "4   8919  10만원 이상 자동이체하시면 0.1% 우대금리를 드립니다     C0300010   \n",
       "\n",
       "                        상세조건설명_cor 상세조건관리번호_cor  \n",
       "0         하나은행 가족은 0.1% 우대금리를 드립니다     C0260008  \n",
       "1              계약금액-100만원이상 2천만원이하     A00300JR  \n",
       "2               계약금액-10만원이상 20만원이하     A00300K5  \n",
       "3               계약금액-10만원이상 20만원이하     A00300K5  \n",
       "4  10만원 이상 자동이체하시면 0.1% 우대금리를 드립니다     C0260010  "
      ]
     },
     "execution_count": 25,
     "metadata": {},
     "output_type": "execute_result"
    }
   ],
   "source": [
    "explain_code.head()"
   ]
  },
  {
   "cell_type": "markdown",
   "metadata": {},
   "source": [
    "#### 상세조건관리번호와 상제조건설명 수정코드"
   ]
  },
  {
   "cell_type": "code",
   "execution_count": 26,
   "metadata": {},
   "outputs": [],
   "source": [
    "modify_detailed_code_explanation = []\n",
    "data.goods_factory.groupby(by=['상세조건설명']).apply(mapping)\n",
    "for key, value in detailed_condition_code_explanation_dict.items():\n",
    "    detailed_name = value.pop()\n",
    "    modify_detailed_code_explanation.append([key, detailed_name])\n",
    "    data.goods_factory.loc[data.goods_factory['상세조건설명'] == key, '상세조건관리번호'] = detailed_name\n",
    "modify_detailed_code_explanation = pd.DataFrame(modify_detailed_code_explanation, columns=['상세조건설명', '상세조건관리번호'])"
   ]
  },
  {
   "cell_type": "markdown",
   "metadata": {},
   "source": [
    "#### 상세조건설명에 상세조건관리코드가 잘 매핑되어있는지 확인 - 비어있으면 잘 매핑"
   ]
  },
  {
   "cell_type": "code",
   "execution_count": 27,
   "metadata": {},
   "outputs": [],
   "source": [
    "explain_code_check = check_condition_code_explanation(key_code='상세조건설명', value_word='상세조건관리번호', data_frame=data.goods_factory)"
   ]
  },
  {
   "cell_type": "code",
   "execution_count": 28,
   "metadata": {},
   "outputs": [
    {
     "data": {
      "text/html": [
       "<div>\n",
       "<style scoped>\n",
       "    .dataframe tbody tr th:only-of-type {\n",
       "        vertical-align: middle;\n",
       "    }\n",
       "\n",
       "    .dataframe tbody tr th {\n",
       "        vertical-align: top;\n",
       "    }\n",
       "\n",
       "    .dataframe thead th {\n",
       "        text-align: right;\n",
       "    }\n",
       "</style>\n",
       "<table border=\"1\" class=\"dataframe\">\n",
       "  <thead>\n",
       "    <tr style=\"text-align: right;\">\n",
       "      <th></th>\n",
       "      <th>index</th>\n",
       "      <th>상세조건설명_err</th>\n",
       "      <th>상세조건관리번호_err</th>\n",
       "      <th>상세조건설명_cor</th>\n",
       "      <th>상세조건관리번호_cor</th>\n",
       "    </tr>\n",
       "  </thead>\n",
       "  <tbody>\n",
       "  </tbody>\n",
       "</table>\n",
       "</div>"
      ],
      "text/plain": [
       "Empty DataFrame\n",
       "Columns: [index, 상세조건설명_err, 상세조건관리번호_err, 상세조건설명_cor, 상세조건관리번호_cor]\n",
       "Index: []"
      ]
     },
     "execution_count": 28,
     "metadata": {},
     "output_type": "execute_result"
    }
   ],
   "source": [
    "explain_code_check"
   ]
  },
  {
   "cell_type": "code",
   "execution_count": 29,
   "metadata": {},
   "outputs": [
    {
     "name": "stdout",
     "output_type": "stream",
     "text": [
      "43538\n",
      "43538\n"
     ]
    }
   ],
   "source": [
    "print(len(data.goods_factory['상세조건설명'].unique()))\n",
    "print(len(data.goods_factory['상세조건관리번호'].unique()))"
   ]
  },
  {
   "cell_type": "markdown",
   "metadata": {},
   "source": [
    "## 펀드상품"
   ]
  },
  {
   "cell_type": "markdown",
   "metadata": {},
   "source": [
    "#### Nan 개수 중 '펀드투자성향구분'이 12124개로 삭제 "
   ]
  },
  {
   "cell_type": "code",
   "execution_count": 30,
   "metadata": {},
   "outputs": [
    {
     "data": {
      "text/plain": [
       "펀드번호               0\n",
       "펀드상품명              0\n",
       "운용사명              66\n",
       "펀드종류명              0\n",
       "운용형태구분명            0\n",
       "수익증권운용형태중분류      716\n",
       "펀드운용구분명            0\n",
       "수익증권상품명            0\n",
       "펀드위험수준구분         331\n",
       "펀드투자지역구분          99\n",
       "통화코드               0\n",
       "감면과세상품구분명          0\n",
       "추가설정구분             0\n",
       "환매가능구분             0\n",
       "수수료수취방법            0\n",
       "환매수수료구간구분        701\n",
       "마감후수용방법            0\n",
       "매입체결일수             0\n",
       "환매체결일수             0\n",
       "환매결제일수             0\n",
       "판매채널구분           442\n",
       "투자목적구분           197\n",
       "펀드투자성향구분       12124\n",
       "투자기간구분           158\n",
       "펀드공모사모구분           0\n",
       "펀드포트폴리오유형        619\n",
       "펀드투자등급유형         425\n",
       "펀드시장전망유형        1545\n",
       "펀드판매상품분류           0\n",
       "펀드판매자격분류         661\n",
       "dtype: int64"
      ]
     },
     "execution_count": 30,
     "metadata": {},
     "output_type": "execute_result"
    }
   ],
   "source": [
    "data.goods_fund.isnull().sum()"
   ]
  },
  {
   "cell_type": "code",
   "execution_count": 31,
   "metadata": {},
   "outputs": [],
   "source": [
    "del data.goods_fund['펀드투자성향구분']"
   ]
  },
  {
   "cell_type": "markdown",
   "metadata": {},
   "source": [
    "#### 하나의 펀드번호에 펀드상품명은 잘 매핑(중복 없음)"
   ]
  },
  {
   "cell_type": "code",
   "execution_count": 32,
   "metadata": {},
   "outputs": [],
   "source": [
    "fund_num_goods = check_condition_code_explanation('펀드번호', '펀드상품명', data_frame=data.goods_fund)"
   ]
  },
  {
   "cell_type": "code",
   "execution_count": 33,
   "metadata": {},
   "outputs": [
    {
     "data": {
      "text/html": [
       "<div>\n",
       "<style scoped>\n",
       "    .dataframe tbody tr th:only-of-type {\n",
       "        vertical-align: middle;\n",
       "    }\n",
       "\n",
       "    .dataframe tbody tr th {\n",
       "        vertical-align: top;\n",
       "    }\n",
       "\n",
       "    .dataframe thead th {\n",
       "        text-align: right;\n",
       "    }\n",
       "</style>\n",
       "<table border=\"1\" class=\"dataframe\">\n",
       "  <thead>\n",
       "    <tr style=\"text-align: right;\">\n",
       "      <th></th>\n",
       "      <th>index</th>\n",
       "      <th>펀드번호_err</th>\n",
       "      <th>펀드상품명_err</th>\n",
       "      <th>펀드번호_cor</th>\n",
       "      <th>펀드상품명_cor</th>\n",
       "    </tr>\n",
       "  </thead>\n",
       "  <tbody>\n",
       "  </tbody>\n",
       "</table>\n",
       "</div>"
      ],
      "text/plain": [
       "Empty DataFrame\n",
       "Columns: [index, 펀드번호_err, 펀드상품명_err, 펀드번호_cor, 펀드상품명_cor]\n",
       "Index: []"
      ]
     },
     "execution_count": 33,
     "metadata": {},
     "output_type": "execute_result"
    }
   ],
   "source": [
    "fund_num_goods"
   ]
  },
  {
   "cell_type": "markdown",
   "metadata": {},
   "source": [
    "#### 하나의 펀드상품명에 여러 펀드번호가 매핑(중복 문제)"
   ]
  },
  {
   "cell_type": "code",
   "execution_count": 34,
   "metadata": {},
   "outputs": [],
   "source": [
    "fund_goods_problem_code_explanation = check_condition_code_explanation('펀드상품명', '펀드번호', data_frame=data.goods_fund)\n",
    "del fund_goods_problem_code_explanation['펀드상품명_cor']"
   ]
  },
  {
   "cell_type": "code",
   "execution_count": 35,
   "metadata": {},
   "outputs": [
    {
     "data": {
      "text/html": [
       "<div>\n",
       "<style scoped>\n",
       "    .dataframe tbody tr th:only-of-type {\n",
       "        vertical-align: middle;\n",
       "    }\n",
       "\n",
       "    .dataframe tbody tr th {\n",
       "        vertical-align: top;\n",
       "    }\n",
       "\n",
       "    .dataframe thead th {\n",
       "        text-align: right;\n",
       "    }\n",
       "</style>\n",
       "<table border=\"1\" class=\"dataframe\">\n",
       "  <thead>\n",
       "    <tr style=\"text-align: right;\">\n",
       "      <th></th>\n",
       "      <th>index</th>\n",
       "      <th>펀드상품명_err</th>\n",
       "      <th>펀드번호_err</th>\n",
       "      <th>펀드번호_cor</th>\n",
       "    </tr>\n",
       "  </thead>\n",
       "  <tbody>\n",
       "    <tr>\n",
       "      <td>0</td>\n",
       "      <td>195</td>\n",
       "      <td>우리주가지수연동사모파생상품투자신탁116호</td>\n",
       "      <td>107106601046</td>\n",
       "      <td>107106301045</td>\n",
       "    </tr>\n",
       "    <tr>\n",
       "      <td>1</td>\n",
       "      <td>289</td>\n",
       "      <td>우리뉴인베스트사모혼합투자신탁제330호</td>\n",
       "      <td>107101401263</td>\n",
       "      <td>107101401256</td>\n",
       "    </tr>\n",
       "    <tr>\n",
       "      <td>2</td>\n",
       "      <td>555</td>\n",
       "      <td>하나UBSSafe4Chance2Y파생상품투자신탁제4호</td>\n",
       "      <td>102106101024</td>\n",
       "      <td>102106100960</td>\n",
       "    </tr>\n",
       "    <tr>\n",
       "      <td>3</td>\n",
       "      <td>564</td>\n",
       "      <td>산은H사모혼합투자신탁제29호</td>\n",
       "      <td>205101401260</td>\n",
       "      <td>205101401258</td>\n",
       "    </tr>\n",
       "    <tr>\n",
       "      <td>4</td>\n",
       "      <td>993</td>\n",
       "      <td>삼성배당프리미엄파생상품투자신탁제1호</td>\n",
       "      <td>105106100258</td>\n",
       "      <td>105106100257</td>\n",
       "    </tr>\n",
       "  </tbody>\n",
       "</table>\n",
       "</div>"
      ],
      "text/plain": [
       "   index                      펀드상품명_err      펀드번호_err      펀드번호_cor\n",
       "0    195         우리주가지수연동사모파생상품투자신탁116호  107106601046  107106301045\n",
       "1    289           우리뉴인베스트사모혼합투자신탁제330호  107101401263  107101401256\n",
       "2    555  하나UBSSafe4Chance2Y파생상품투자신탁제4호  102106101024  102106100960\n",
       "3    564                산은H사모혼합투자신탁제29호  205101401260  205101401258\n",
       "4    993            삼성배당프리미엄파생상품투자신탁제1호  105106100258  105106100257"
      ]
     },
     "execution_count": 35,
     "metadata": {},
     "output_type": "execute_result"
    }
   ],
   "source": [
    "fund_goods_problem_code_explanation.head()"
   ]
  },
  {
   "cell_type": "markdown",
   "metadata": {},
   "source": [
    "#### 9개의 중복문제"
   ]
  },
  {
   "cell_type": "code",
   "execution_count": 36,
   "metadata": {},
   "outputs": [
    {
     "name": "stdout",
     "output_type": "stream",
     "text": [
      "54\n",
      "63\n"
     ]
    }
   ],
   "source": [
    "print(len(fund_goods_problem_code_explanation['펀드상품명_err'].unique()))\n",
    "print(len(fund_goods_problem_code_explanation['펀드상품명_err']))"
   ]
  },
  {
   "cell_type": "code",
   "execution_count": 37,
   "metadata": {},
   "outputs": [],
   "source": [
    "fund_name_num_list = []\n",
    "modify_frame = []\n",
    "for index, value in fund_goods_problem_code_explanation.iterrows():\n",
    "    if value['펀드상품명_err'] not in fund_name_num_list:\n",
    "        # fund_goods_problem_code_explanation 중 중복 펀드상품명이 있기 때문에 이 중 하나만 처리\n",
    "        fund_name_num_list.append(value['펀드상품명_err'])\n",
    "        temp_frame = data.goods_fund.loc[data.goods_fund['펀드상품명'] == value['펀드상품명_err']]\n",
    "        num_list = temp_frame['펀드번호'].tolist()\n",
    "        modify_funds_num = num_list.pop()\n",
    "        data.goods_fund.drop(data.goods_fund.index[data.goods_fund['펀드번호'].isin(num_list)], inplace=True)\n",
    "        modify_frame.append([modify_funds_num, value['펀드상품명_err']])"
   ]
  },
  {
   "cell_type": "code",
   "execution_count": 38,
   "metadata": {},
   "outputs": [],
   "source": [
    "fund_goods_modify_code_explanation = pd.DataFrame(modify_frame, columns=['펀드번호', '펀드상품명'])\n"
   ]
  },
  {
   "cell_type": "markdown",
   "metadata": {},
   "source": [
    "#### 중복 제거하고 펀드상품명과 펀드번호 매핑정보보기"
   ]
  },
  {
   "cell_type": "code",
   "execution_count": 39,
   "metadata": {},
   "outputs": [
    {
     "data": {
      "text/html": [
       "<div>\n",
       "<style scoped>\n",
       "    .dataframe tbody tr th:only-of-type {\n",
       "        vertical-align: middle;\n",
       "    }\n",
       "\n",
       "    .dataframe tbody tr th {\n",
       "        vertical-align: top;\n",
       "    }\n",
       "\n",
       "    .dataframe thead th {\n",
       "        text-align: right;\n",
       "    }\n",
       "</style>\n",
       "<table border=\"1\" class=\"dataframe\">\n",
       "  <thead>\n",
       "    <tr style=\"text-align: right;\">\n",
       "      <th></th>\n",
       "      <th>펀드번호</th>\n",
       "      <th>펀드상품명</th>\n",
       "    </tr>\n",
       "  </thead>\n",
       "  <tbody>\n",
       "    <tr>\n",
       "      <td>0</td>\n",
       "      <td>107106601046</td>\n",
       "      <td>우리주가지수연동사모파생상품투자신탁116호</td>\n",
       "    </tr>\n",
       "    <tr>\n",
       "      <td>1</td>\n",
       "      <td>107101401263</td>\n",
       "      <td>우리뉴인베스트사모혼합투자신탁제330호</td>\n",
       "    </tr>\n",
       "    <tr>\n",
       "      <td>2</td>\n",
       "      <td>102106101024</td>\n",
       "      <td>하나UBSSafe4Chance2Y파생상품투자신탁제4호</td>\n",
       "    </tr>\n",
       "    <tr>\n",
       "      <td>3</td>\n",
       "      <td>205101401260</td>\n",
       "      <td>산은H사모혼합투자신탁제29호</td>\n",
       "    </tr>\n",
       "    <tr>\n",
       "      <td>4</td>\n",
       "      <td>105106100258</td>\n",
       "      <td>삼성배당프리미엄파생상품투자신탁제1호</td>\n",
       "    </tr>\n",
       "  </tbody>\n",
       "</table>\n",
       "</div>"
      ],
      "text/plain": [
       "           펀드번호                          펀드상품명\n",
       "0  107106601046         우리주가지수연동사모파생상품투자신탁116호\n",
       "1  107101401263           우리뉴인베스트사모혼합투자신탁제330호\n",
       "2  102106101024  하나UBSSafe4Chance2Y파생상품투자신탁제4호\n",
       "3  205101401260                산은H사모혼합투자신탁제29호\n",
       "4  105106100258            삼성배당프리미엄파생상품투자신탁제1호"
      ]
     },
     "execution_count": 39,
     "metadata": {},
     "output_type": "execute_result"
    }
   ],
   "source": [
    "fund_goods_modify_code_explanation.head()"
   ]
  },
  {
   "cell_type": "markdown",
   "metadata": {},
   "source": [
    "#### 모든 펀드상품이 Unique하다"
   ]
  },
  {
   "cell_type": "code",
   "execution_count": 40,
   "metadata": {},
   "outputs": [
    {
     "name": "stdout",
     "output_type": "stream",
     "text": [
      "15746\n",
      "15746\n"
     ]
    }
   ],
   "source": [
    "print(len(data.goods_fund['펀드상품명']))\n",
    "print(len(data.goods_fund['펀드상품명'].unique()))"
   ]
  },
  {
   "cell_type": "markdown",
   "metadata": {},
   "source": [
    "#### 펀드번호와 펀드상품명이 잘 매핑(중복 문제해결)"
   ]
  },
  {
   "cell_type": "code",
   "execution_count": 41,
   "metadata": {},
   "outputs": [
    {
     "name": "stdout",
     "output_type": "stream",
     "text": [
      "15746\n",
      "15746\n"
     ]
    }
   ],
   "source": [
    "print(len(data.goods_fund['펀드번호'].unique()))\n",
    "print(len(data.goods_fund['펀드상품명'].unique()))"
   ]
  },
  {
   "cell_type": "markdown",
   "metadata": {},
   "source": [
    "#### 데이터프레임이 비어있으므로 다시 한 번 잘 매핑됬는지 확인"
   ]
  },
  {
   "cell_type": "code",
   "execution_count": 42,
   "metadata": {},
   "outputs": [
    {
     "name": "stdout",
     "output_type": "stream",
     "text": [
      "Empty DataFrame\n",
      "Columns: [index, 펀드상품명_err, 펀드번호_err, 펀드번호_cor]\n",
      "Index: []\n"
     ]
    }
   ],
   "source": [
    "frame = check_condition_code_explanation('펀드상품명', '펀드번호', data_frame = data.goods_fund)\n",
    "del frame['펀드상품명_cor']\n",
    "print(frame)"
   ]
  },
  {
   "cell_type": "markdown",
   "metadata": {},
   "source": [
    "## 방카상품 전처리"
   ]
  },
  {
   "cell_type": "markdown",
   "metadata": {},
   "source": [
    "#### 결측치 개수 구하기"
   ]
  },
  {
   "cell_type": "code",
   "execution_count": 43,
   "metadata": {},
   "outputs": [],
   "source": [
    "bank_assurance_null_count = data.bank_assurance_data.isnull().sum()"
   ]
  },
  {
   "cell_type": "markdown",
   "metadata": {},
   "source": [
    "#### Nan 개수가 많으므로 우선 이를 모두 제거"
   ]
  },
  {
   "cell_type": "code",
   "execution_count": 44,
   "metadata": {},
   "outputs": [
    {
     "data": {
      "text/plain": [
       "예정이율            312\n",
       "기준금액             77\n",
       "최저보증이율          165\n",
       "최저보증이율2         726\n",
       "손보납입단위         2047\n",
       "기간불확정코드        1455\n",
       "연금개시최소연령        144\n",
       "연금개시최대연령        118\n",
       "적립여부            830\n",
       "거치여부           1876\n",
       "판매종료일자          148\n",
       "최대펀드가입갯수       1560\n",
       "특약적용CNT        2883\n",
       "구좌가설구분         2986\n",
       "배우자여부          2046\n",
       "자녀구분            863\n",
       "건강체구분          2090\n",
       "우량체구분          2211\n",
       "주계약담보여부        1850\n",
       "보험료계산유형        2892\n",
       "연금구분           1569\n",
       "계약형태구분코드       4827\n",
       "외화계좌사용여부       5324\n",
       "비고             5332\n",
       "판매제한내용         4801\n",
       "보험료계산유형코드      3041\n",
       "가족력입력여부        5326\n",
       "거주자구분코드        3921\n",
       "상품설명적용일자        679\n",
       "적용기준가구분코드      4664\n",
       "기준가적용일자        1330\n",
       "보험사콜여부         3613\n",
       "Unnamed: 45    5391\n",
       "dtype: int64"
      ]
     },
     "execution_count": 44,
     "metadata": {},
     "output_type": "execute_result"
    }
   ],
   "source": [
    "bank_assurance_null_count[bank_assurance_null_count > 0]"
   ]
  },
  {
   "cell_type": "markdown",
   "metadata": {},
   "source": [
    "### 제거"
   ]
  },
  {
   "cell_type": "code",
   "execution_count": 45,
   "metadata": {},
   "outputs": [],
   "source": [
    "upper_3000 = bank_assurance_null_count[bank_assurance_null_count > 0]\n",
    "for element in upper_3000.index:\n",
    "    del data.bank_assurance_data[element]"
   ]
  },
  {
   "cell_type": "markdown",
   "metadata": {},
   "source": [
    "#### 고려할 Column"
   ]
  },
  {
   "cell_type": "code",
   "execution_count": 46,
   "metadata": {},
   "outputs": [
    {
     "name": "stdout",
     "output_type": "stream",
     "text": [
      "Index(['은행상품코드', '은행상품명', '보험사명', '가입목적', '상품보장기간', '저축보장구분', '보험사상품명', '원화구분',\n",
      "       '남자최소가입연령', '남자최대가입연령', '여자최소가입연령', '여자최대가입연령', '판매시작일자'],\n",
      "      dtype='object')\n"
     ]
    }
   ],
   "source": [
    "print(data.bank_assurance_data.columns)"
   ]
  },
  {
   "cell_type": "markdown",
   "metadata": {},
   "source": [
    "#### 은행상품코드와 은행상품명의 Mapping 문제"
   ]
  },
  {
   "cell_type": "code",
   "execution_count": 47,
   "metadata": {},
   "outputs": [
    {
     "name": "stdout",
     "output_type": "stream",
     "text": [
      "5393\n",
      "4136\n"
     ]
    }
   ],
   "source": [
    "print(len(data.bank_assurance_data['은행상품코드'].unique()))\n",
    "print(len(data.bank_assurance_data['은행상품명'].unique()))"
   ]
  },
  {
   "cell_type": "code",
   "execution_count": 48,
   "metadata": {},
   "outputs": [],
   "source": [
    "error_frame = check_condition_code_explanation('은행상품명', '은행상품코드', data_frame=data.bank_assurance_data)\n",
    "del error_frame['은행상품명_cor']"
   ]
  },
  {
   "cell_type": "code",
   "execution_count": 49,
   "metadata": {},
   "outputs": [
    {
     "name": "stdout",
     "output_type": "stream",
     "text": [
      "   index         은행상품명_err  은행상품코드_err  은행상품코드_cor\n",
      "0     96     (무)베스트변액연금보험Ⅱ  L01184304K  L01184303K\n",
      "1     98     (무)뉴베스트변액연금보험  L01184306K  L01184305K\n",
      "2    128  연금저축하이드림Free연금보험  L01014203K  L01014202K\n",
      "3    129  연금저축하이드림Free연금보험  L01014204K  L01014202K\n",
      "4    130  연금저축하이드림Free연금보험  L01014205K  L01014202K\n",
      "1257\n"
     ]
    }
   ],
   "source": [
    "print(error_frame.head())\n",
    "print(len(error_frame))"
   ]
  },
  {
   "cell_type": "markdown",
   "metadata": {},
   "source": [
    "#### 은행상품코드와 은행상품명 매핑 - (은행상품코드, 은행상품명, 보험사상품명)으로 매핑 "
   ]
  },
  {
   "cell_type": "code",
   "execution_count": 50,
   "metadata": {},
   "outputs": [],
   "source": [
    "modify_code_bank_assurance = solve_bank_name_num_mapping(error_frame)"
   ]
  },
  {
   "cell_type": "code",
   "execution_count": 51,
   "metadata": {},
   "outputs": [],
   "source": [
    "mapping_data = pd.DataFrame(modify_code_bank_assurance, columns=['은행상품코드', '은행상품명', '보험사상품명'])"
   ]
  },
  {
   "cell_type": "code",
   "execution_count": 52,
   "metadata": {},
   "outputs": [
    {
     "data": {
      "text/html": [
       "<div>\n",
       "<style scoped>\n",
       "    .dataframe tbody tr th:only-of-type {\n",
       "        vertical-align: middle;\n",
       "    }\n",
       "\n",
       "    .dataframe tbody tr th {\n",
       "        vertical-align: top;\n",
       "    }\n",
       "\n",
       "    .dataframe thead th {\n",
       "        text-align: right;\n",
       "    }\n",
       "</style>\n",
       "<table border=\"1\" class=\"dataframe\">\n",
       "  <thead>\n",
       "    <tr style=\"text-align: right;\">\n",
       "      <th></th>\n",
       "      <th>은행상품코드</th>\n",
       "      <th>은행상품명</th>\n",
       "      <th>보험사상품명</th>\n",
       "    </tr>\n",
       "  </thead>\n",
       "  <tbody>\n",
       "    <tr>\n",
       "      <td>0</td>\n",
       "      <td>L01184304K</td>\n",
       "      <td>(무)베스트변액연금보험Ⅱ</td>\n",
       "      <td>(무)베스트변액연금보험Ⅱ</td>\n",
       "    </tr>\n",
       "    <tr>\n",
       "      <td>1</td>\n",
       "      <td>L01184306K</td>\n",
       "      <td>(무)뉴베스트변액연금보험</td>\n",
       "      <td>(무)뉴베스트변액연금보험</td>\n",
       "    </tr>\n",
       "    <tr>\n",
       "      <td>2</td>\n",
       "      <td>L01014203K</td>\n",
       "      <td>연금저축하이드림Free연금보험</td>\n",
       "      <td>연금저축하이드림Free연금보험</td>\n",
       "    </tr>\n",
       "    <tr>\n",
       "      <td>3</td>\n",
       "      <td>L01014210K</td>\n",
       "      <td>연금저축스마트하이드림연금보험</td>\n",
       "      <td>연금저축스마트하이드림연금보험</td>\n",
       "    </tr>\n",
       "    <tr>\n",
       "      <td>4</td>\n",
       "      <td>L01024304K</td>\n",
       "      <td>(무)바로연금보험</td>\n",
       "      <td>(무)바로연금보험</td>\n",
       "    </tr>\n",
       "  </tbody>\n",
       "</table>\n",
       "</div>"
      ],
      "text/plain": [
       "       은행상품코드             은행상품명            보험사상품명\n",
       "0  L01184304K     (무)베스트변액연금보험Ⅱ     (무)베스트변액연금보험Ⅱ\n",
       "1  L01184306K     (무)뉴베스트변액연금보험     (무)뉴베스트변액연금보험\n",
       "2  L01014203K  연금저축하이드림Free연금보험  연금저축하이드림Free연금보험\n",
       "3  L01014210K   연금저축스마트하이드림연금보험   연금저축스마트하이드림연금보험\n",
       "4  L01024304K         (무)바로연금보험         (무)바로연금보험"
      ]
     },
     "execution_count": 52,
     "metadata": {},
     "output_type": "execute_result"
    }
   ],
   "source": [
    "mapping_data.head()"
   ]
  },
  {
   "cell_type": "markdown",
   "metadata": {},
   "source": [
    "#### (보험사상품명, 은행상품명)에 중복이 존재하지 않으면 Print되는 것이 없음"
   ]
  },
  {
   "cell_type": "code",
   "execution_count": 64,
   "metadata": {},
   "outputs": [],
   "source": [
    "bank_assurance_check(data)"
   ]
  },
  {
   "cell_type": "markdown",
   "metadata": {},
   "source": [
    "#### 띄어쓰기만 다르므로 삭제"
   ]
  },
  {
   "cell_type": "code",
   "execution_count": 54,
   "metadata": {},
   "outputs": [],
   "source": [
    "data.bank_assurance_data.drop(data.bank_assurance_data.index[data.bank_assurance_data['은행상품명'] == '무배당교보First저축보험III'], inplace=True)"
   ]
  },
  {
   "cell_type": "markdown",
   "metadata": {},
   "source": [
    "#### 저장"
   ]
  },
  {
   "cell_type": "code",
   "execution_count": 55,
   "metadata": {},
   "outputs": [],
   "source": [
    "with pd.ExcelWriter('/home/kibum/recommender_system/Hana_Bank/Modify_Hana_Data.xlsx') as writer:\n",
    "    data.goods_factory.to_excel(writer, sheet_name='수신_여신상품(상품팩토리)', index=False)\n",
    "    data.goods_fund.to_excel(writer, sheet_name='펀드상품(펀드상품기본)', index=False)\n",
    "    data.bank_assurance_data.to_excel(writer, sheet_name='방카상품(방카슈랑스기본)', index=False)"
   ]
  },
  {
   "cell_type": "markdown",
   "metadata": {},
   "source": [
    "### 매핑(중복)검사시 Verify_Error.py 실행"
   ]
  },
  {
   "cell_type": "code",
   "execution_count": null,
   "metadata": {},
   "outputs": [],
   "source": []
  },
  {
   "cell_type": "markdown",
   "metadata": {},
   "source": [
    "## 관련함수"
   ]
  },
  {
   "cell_type": "code",
   "execution_count": 56,
   "metadata": {},
   "outputs": [],
   "source": [
    "def check_start_end_date():\n",
    "    \"\"\"\n",
    "    상품명과 판매시작일, 판매종료일이 잘 매핑되어있는지 확인 - 문제 없음\n",
    "    \"\"\"\n",
    "    start_last_date_dict = {}\n",
    "    error_index = []\n",
    "    correct_index = []\n",
    "    start_last_date = data.goods_factory[['상품명', '판매시작일자', '판매종료일자']]\n",
    "    for index, value in start_last_date.iterrows():\n",
    "        if value['상품명'] not in start_last_date_dict.keys():\n",
    "            start_last_date_dict[value['상품명']] = [value['판매시작일자'], value['판매종료일자']]\n",
    "        else:\n",
    "            if value['판매시작일자'] != start_last_date_dict[value['상품명']][0] or value['판매종료일자'] != \\\n",
    "                    start_last_date_dict[value['상품명']][1]:\n",
    "                error_index.append([index, value['상품명'], value['판매시작일자'], value['판매종료일자']])\n",
    "                correct_index.append(\n",
    "                    [index, start_last_date_dict[value['상품명']][0], start_last_date_dict[value['상품명']][1]])\n",
    "    return error_index"
   ]
  },
  {
   "cell_type": "code",
   "execution_count": 57,
   "metadata": {},
   "outputs": [],
   "source": [
    "def check_condition_code_explanation(key_code, value_word, data_frame):\n",
    "    \"\"\"\n",
    "    매핑이 잘 되어있는지 확인하는 함수\n",
    "    매핑이 1:1로 잘 되어있는 경우 데이터프레임에 아무 값도 없음\n",
    "    매핑이 1:n으로 되어있는 경우 데이터프레임에 문제의 튜플이 담기게 됨\n",
    "    \"\"\"\n",
    "    check_dict = {}\n",
    "    error_index = []\n",
    "    correct_index = []\n",
    "    condition_code_explain = data_frame[[key_code, value_word]]\n",
    "    # 여기서 조건코드와 조건설명을 바꿔서도 Check\n",
    "    for index, line in condition_code_explain.iterrows():\n",
    "        if line[key_code] not in check_dict.keys():\n",
    "            check_dict[line[key_code]] = line[value_word]\n",
    "        else:\n",
    "            if line[value_word] != check_dict[line[key_code]]:\n",
    "                error_index.append([index, line[key_code], line[value_word]])\n",
    "                correct_index.append([line[key_code], check_dict[line[key_code]]])\n",
    "    return pd.concat([pd.DataFrame(error_index, columns=['index', key_code + '_err', value_word + '_err']),\n",
    "                      pd.DataFrame(correct_index, columns=[key_code + '_cor', value_word + '_cor'])], axis=1)\n",
    "\n"
   ]
  },
  {
   "cell_type": "code",
   "execution_count": 58,
   "metadata": {},
   "outputs": [],
   "source": [
    "detailed_condition_code_explanation_dict = {}"
   ]
  },
  {
   "cell_type": "code",
   "execution_count": 59,
   "metadata": {},
   "outputs": [],
   "source": [
    "def mapping(df):\n",
    "    \"\"\"\n",
    "    람다 함수에 이용(apply)\n",
    "    \"\"\"\n",
    "    detailed_condition_code_explanation_dict[df.name] = set(df['상세조건관리번호'].tolist())\n"
   ]
  },
  {
   "cell_type": "code",
   "execution_count": 60,
   "metadata": {},
   "outputs": [],
   "source": [
    "def solve_bank_name_num_mapping(error_frame):\n",
    "    \"\"\"\n",
    "    하나의 은행상품명에 여러 은행상품코드의 Mapping 문제 해결\n",
    "    하나의 은행상품코드에는 하나의 은행상품명이 매핑되어있기 때문에 아래 코드에서 삭제 가능 가능\n",
    "    \"\"\"\n",
    "    bank_code_name_dict = fill_bank_code_dict(error_frame)\n",
    "    modify_code_bank_assurance = []\n",
    "    for k, v in bank_code_name_dict.items():\n",
    "        assurance_name = k[0]\n",
    "        bank_goods_name = k[1]\n",
    "        modify_key = v.pop()\n",
    "        \n",
    "        data.bank_assurance_data.drop(data.bank_assurance_data.index[data.bank_assurance_data['은행상품코드'].\\\n",
    "                                           isin(list(v))], inplace=True)\n",
    "        modify_code_bank_assurance.append([modify_key, bank_goods_name, assurance_name])\n",
    "    return modify_code_bank_assurance"
   ]
  },
  {
   "cell_type": "code",
   "execution_count": 61,
   "metadata": {},
   "outputs": [],
   "source": [
    "def fill_bank_code_dict(error_frame):\n",
    "    \"\"\"\n",
    "    방카상품에서 문제 있는 은행상품과 상품코드를 딕셔너리에 넣는 코드\n",
    "    bank_code_name_dict : Key - (보험사상품명, 은행상품명), Value - 은행사상품코드 List\n",
    "    \"\"\"\n",
    "    bank_code_name_dict = {}\n",
    "    bank_name = []\n",
    "    for index, value in error_frame.iterrows():\n",
    "        if value['은행상품명_err'] not in bank_name:\n",
    "            bank_name.append(value['은행상품명_err'])\n",
    "            temp_frame = data.bank_assurance_data[data.bank_assurance_data['은행상품명'] == value['은행상품명_err']]\n",
    "            temp_frame.groupby(by=['보험사상품명']).apply(lambda df: mappings(df, value['은행상품명_err'], bank_code_name_dict))\n",
    "    return bank_code_name_dict"
   ]
  },
  {
   "cell_type": "code",
   "execution_count": 62,
   "metadata": {},
   "outputs": [],
   "source": [
    "def mappings(df, bank_goods_name, bank_code_name_dict):\n",
    "    \"\"\"\n",
    "    Lambda 함수를 위해 사용되는 코드\n",
    "    \"\"\"\n",
    "    bank_code_name_dict[(df.name, bank_goods_name)] = set(df['은행상품코드'].tolist())\n",
    "\n"
   ]
  },
  {
   "cell_type": "code",
   "execution_count": 63,
   "metadata": {},
   "outputs": [],
   "source": [
    "def bank_assurance_check(data):\n",
    "    \"\"\"\n",
    "    Key : (은행상품명, 보험사상품명) Value : 은행상품코드\n",
    "    error에서 출력이 되면 문제\n",
    "    \"\"\"\n",
    "    bank_code_goodsname_assurancename = {}\n",
    "    error = []\n",
    "    for index, value in data.bank_assurance_data.iterrows():\n",
    "        bank_key = (value['은행상품명'], value['보험사상품명'])\n",
    "        if bank_key not in bank_code_goodsname_assurancename.keys():\n",
    "            bank_code_goodsname_assurancename[bank_key] = value['은행상품코드']\n",
    "        else:\n",
    "            error.append(bank_key)\n",
    "    if error:\n",
    "        print(error)"
   ]
  }
 ],
 "metadata": {
  "kernelspec": {
   "display_name": "Python 3",
   "language": "python",
   "name": "python3"
  },
  "language_info": {
   "codemirror_mode": {
    "name": "ipython",
    "version": 3
   },
   "file_extension": ".py",
   "mimetype": "text/x-python",
   "name": "python",
   "nbconvert_exporter": "python",
   "pygments_lexer": "ipython3",
   "version": "3.7.4"
  }
 },
 "nbformat": 4,
 "nbformat_minor": 4
}
